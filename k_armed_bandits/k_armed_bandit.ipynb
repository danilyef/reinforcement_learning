{
 "cells": [
  {
   "cell_type": "markdown",
   "metadata": {
    "deletable": false,
    "editable": false,
    "nbgrader": {
     "cell_type": "markdown",
     "checksum": "dd611b2835b21867b6316789dd3dc41a",
     "grade": false,
     "grade_id": "cell-8743ac94d9590c18",
     "locked": true,
     "schema_version": 3,
     "solution": false,
     "task": false
    }
   },
   "source": [
    "# k-Armed Bandit Problems\n",
    "\n",
    "\n",
    "In this notebook, I will implement different strategies (algorithms) to solve the k-Armed Bandit problem, and you will compare and visually analyze their relative performance differences. The maximum number of points for each subtask is indicated next to the sections."
   ]
  },
  {
   "cell_type": "markdown",
   "metadata": {
    "deletable": false,
    "editable": false,
    "nbgrader": {
     "cell_type": "markdown",
     "checksum": "b97413d4bb4684d9d8d80fb25fb45aca",
     "grade": false,
     "grade_id": "cell-95cd9daf99fa9ed8",
     "locked": true,
     "schema_version": 3,
     "solution": false,
     "task": false
    }
   },
   "source": [
    "# Definition of the Problem (Repetition)\n",
    "k-armed bandit problem definition:\n",
    "- we repeatedly choose among $k$ different actions\n",
    "- after each action, we receive a numeric reward\n",
    "  (originating from a stationary probability distribution, except in the last exercise in this problem set)\n",
    "- the sole objective: maximize expected total reward over time (by finding and exploiting the most beneficial actions)\n",
    "\n",
    "The particular **algorithm testbed** we will be using here is defined as follows:\n",
    "- a set of 2000 randomly generated $10$-armed bandit problems\n",
    "- for each problem instance, the true action values $q_*(a)$ are sampled from $\\mathcal{N}(0,\\,1)$ in the beginning\n",
    "- the actual rewards $R_t$ are sampled from $\\mathcal{N}(q_*(a),\\,1)$ at each step\n",
    "- we **don't know** the true action values and hence have to **estimate** them!"
   ]
  },
  {
   "cell_type": "markdown",
   "metadata": {
    "deletable": false,
    "editable": false,
    "nbgrader": {
     "cell_type": "markdown",
     "checksum": "8b5f4154cdefeb2c762f2a0b043d3027",
     "grade": false,
     "grade_id": "cell-c58ffe90e6ed1bd8",
     "locked": true,
     "schema_version": 3,
     "solution": false,
     "task": false
    }
   },
   "source": [
    "## Python Imports & Constants"
   ]
  },
  {
   "cell_type": "code",
   "execution_count": 1,
   "metadata": {
    "deletable": false,
    "editable": false,
    "nbgrader": {
     "cell_type": "code",
     "checksum": "b2ae9317329a626865d51311a2d8b353",
     "grade": false,
     "grade_id": "cell-acdcb2be4f23ea02",
     "locked": true,
     "schema_version": 3,
     "solution": false,
     "task": false
    }
   },
   "outputs": [
    {
     "name": "stdout",
     "output_type": "stream",
     "text": [
      "numpy version: 1.21.5\n",
      "scipy version: 1.9.2\n",
      "matplotlib version: 3.5.1\n"
     ]
    }
   ],
   "source": [
    "import numpy as np\n",
    "import scipy\n",
    "from scipy.special import softmax\n",
    "import matplotlib.pyplot as plt\n",
    "import  matplotlib\n",
    "\n",
    "print('numpy version:',np.__version__)\n",
    "print('scipy version:',scipy.__version__)\n",
    "print('matplotlib version:',matplotlib.__version__)"
   ]
  },
  {
   "cell_type": "markdown",
   "metadata": {
    "deletable": false,
    "editable": false,
    "nbgrader": {
     "cell_type": "markdown",
     "checksum": "8290237b639bb7f309dcaafa08d615bf",
     "grade": false,
     "grade_id": "cell-463c7fd574cf87fb",
     "locked": true,
     "schema_version": 3,
     "solution": false,
     "task": false
    }
   },
   "source": [
    "## Definition of k-Armed Bandit Problem\n",
    "In this section, we implement the actual bandit problem."
   ]
  },
  {
   "cell_type": "code",
   "execution_count": 2,
   "metadata": {
    "deletable": false,
    "editable": false,
    "nbgrader": {
     "cell_type": "code",
     "checksum": "3ade078882e78fc6543c8a4367f4061e",
     "grade": false,
     "grade_id": "cell-0aedba8a06dca5eb",
     "locked": true,
     "schema_version": 3,
     "solution": false,
     "task": false
    }
   },
   "outputs": [],
   "source": [
    "class kArmedBandit():\n",
    "    \"\"\"\n",
    "    Specifies a k-armed bandit problem\n",
    "    \n",
    "    The agent has to choose from k different actions.\n",
    "    Taking an action yields a numeric reward specified\n",
    "    by a stationary probability distribution.\n",
    "    \"\"\"\n",
    "    \n",
    "    def __init__(self, k=10, seed=None):\n",
    "        \"\"\"\n",
    "        Parameters\n",
    "        ----------\n",
    "            @k: the number of actions / arms / levers of the k-armed bandit\n",
    "            @seed: the seed of the pseudo random number generator (PRNG) that\n",
    "                   completely specifies this (random) k-armed bandit problem.\n",
    "                   if you use 'None' for the seed, numpy will use the entropy\n",
    "                   pool of the operating system to get some true randomness.\n",
    "                   in the interest of having reproducible experiments, we should\n",
    "                   always provide a seed here.\n",
    "        \"\"\"\n",
    "        self.k = k\n",
    "        self.rng = np.random.default_rng(seed)\n",
    "        # sample the true action values from a gaussian\n",
    "        # with mean 0 and standard deviation 1.\n",
    "        \n",
    "        # these are the values we **don't know**!\n",
    "        # we'll never use them directly!\n",
    "        self.q_star = self.rng.normal(0, 1, k)\n",
    "    \n",
    "    def step(self, action):\n",
    "        \"\"\"\n",
    "        Take one step, choosing 'action'. This is the **only** method\n",
    "        that the agent will interact with.\n",
    "        \n",
    "        Parameters\n",
    "        ----------\n",
    "           @action: action id (integer in [0, k[)\n",
    "        \n",
    "        Returns\n",
    "        -------\n",
    "            the reward for taking this action.\n",
    "        \"\"\"\n",
    "        # the reward is drawn from a normal distribution with\n",
    "        # mean q_star[action] and standard deviation 1\n",
    "        Rt = self.rng.normal(self.q_star[action], 1)\n",
    "        return Rt\n",
    "        "
   ]
  },
  {
   "cell_type": "markdown",
   "metadata": {
    "deletable": false,
    "editable": false,
    "nbgrader": {
     "cell_type": "markdown",
     "checksum": "ac14e9cc31f5b63afac57ace8ccfe4b5",
     "grade": false,
     "grade_id": "cell-a291b7b0f6b00180",
     "locked": true,
     "schema_version": 3,
     "solution": false,
     "task": false
    }
   },
   "source": [
    "## Visualization of one problem instance\n",
    "This section is <b>just for visualizing</b> the problem instances we are facing.\n",
    "For this purpose, we generate one instance of the problem and uniformly select actions to get a notion of the underlying stationary probability distribution."
   ]
  },
  {
   "cell_type": "code",
   "execution_count": 3,
   "metadata": {
    "deletable": false,
    "editable": false,
    "nbgrader": {
     "cell_type": "code",
     "checksum": "08f686bd7ad7325c3ddcbe9677ae30a9",
     "grade": false,
     "grade_id": "cell-d3e7ee6329cab325",
     "locked": true,
     "schema_version": 3,
     "solution": false,
     "task": false
    }
   },
   "outputs": [],
   "source": [
    "# initialize bandit problem with 10 actions\n",
    "bandit = kArmedBandit(k=10, seed=1234)"
   ]
  },
  {
   "cell_type": "code",
   "execution_count": 4,
   "metadata": {
    "deletable": false,
    "editable": false,
    "nbgrader": {
     "cell_type": "code",
     "checksum": "b183e552c058801aac87be38ed4bfbd9",
     "grade": false,
     "grade_id": "cell-cd0965cbc969de68",
     "locked": true,
     "schema_version": 3,
     "solution": false,
     "task": false
    }
   },
   "outputs": [],
   "source": [
    "# iterate actions and select each one 1000 times\n",
    "N_SAMPLES = 1000\n",
    "action_rewards = np.zeros((N_SAMPLES, bandit.k))\n",
    "for action in range(bandit.k):\n",
    "    # choose each action several times and recive reward\n",
    "    # (this will (hopefully) reveal the underlying distribution)\n",
    "    for i_sample in range(N_SAMPLES):\n",
    "        reward = bandit.step(action)\n",
    "        action_rewards[i_sample, action] = reward\n",
    "    "
   ]
  },
  {
   "cell_type": "code",
   "execution_count": 5,
   "metadata": {
    "deletable": false,
    "editable": false,
    "nbgrader": {
     "cell_type": "code",
     "checksum": "4dc9e652a62778667a1d8500d2b4d498",
     "grade": false,
     "grade_id": "cell-3a8da54be26d88ae",
     "locked": true,
     "schema_version": 3,
     "solution": false,
     "task": false
    }
   },
   "outputs": [
    {
     "data": {
      "image/png": "[encoded data removed]",
      "text/plain": [
       "<Figure size 432x288 with 1 Axes>"
      ]
     },
     "metadata": {
      "needs_background": "light"
     },
     "output_type": "display_data"
    }
   ],
   "source": [
    "fig, ax = plt.subplots()\n",
    "ax.violinplot(\n",
    "    action_rewards,\n",
    "    np.arange(0, bandit.k),\n",
    "    showmeans=True,\n",
    "    showmedians=False,\n",
    "    showextrema=True\n",
    ")\n",
    "ax.set_xlabel('action')\n",
    "ax.set_xticks(np.arange(0, bandit.k))\n",
    "ax.set_ylabel('reward distribution')\n",
    "plt.show()"
   ]
  },
  {
   "cell_type": "markdown",
   "metadata": {
    "deletable": false,
    "editable": false,
    "nbgrader": {
     "cell_type": "markdown",
     "checksum": "23482a2a38ddb476368d430728299897",
     "grade": false,
     "grade_id": "cell-ca9b224dab5a63ed",
     "locked": true,
     "schema_version": 3,
     "solution": false,
     "task": false
    }
   },
   "source": [
    "# Comparison of Standard Algorithms\n",
    "Your task in this exercise is to compare the bandit algorithms listed below on our standard testbed e.g. the 10-armed bandit problem.\n",
    "* Iterative Sample Average Method\n",
    "* Greedy vs. epsilon-Greedy Action Selection\n",
    "* Optimistic Initial Values\n",
    "* Upper Confidence Bound Method\n",
    "* Gradient Bandit Algorithms\n",
    "* Iterative Sample Average Method with constant step size"
   ]
  },
  {
   "cell_type": "markdown",
   "metadata": {
    "deletable": false,
    "editable": false,
    "nbgrader": {
     "cell_type": "markdown",
     "checksum": "eb2bbc1573c867b1c40a9ee21660a11f",
     "grade": false,
     "grade_id": "cell-f849eaf10b9f8f4d",
     "locked": true,
     "schema_version": 3,
     "solution": false,
     "task": false
    }
   },
   "source": [
    "## Random Action Selection Baseline\n",
    "Implementation of a random action selection baseline."
   ]
  },
  {
   "cell_type": "code",
   "execution_count": 7,
   "metadata": {
    "deletable": false,
    "editable": false,
    "nbgrader": {
     "cell_type": "code",
     "checksum": "2068f4bc709bd93c0cec71c2379f78c4",
     "grade": false,
     "grade_id": "cell-7745c683a66798fb",
     "locked": true,
     "schema_version": 3,
     "solution": false,
     "task": false
    }
   },
   "outputs": [],
   "source": [
    "class RandomBaseline():\n",
    "    def __init__(self, k=10, seed=None):\n",
    "        \"\"\"\n",
    "        Random Action Selection Baseline\n",
    "        \n",
    "        This method simply selects an action at random, and does\n",
    "        not care about rewards at all.\n",
    "    \n",
    "        Parameters\n",
    "        ----------\n",
    "            @k: number of possible actions (integer)\n",
    "            @seed: PRNG seed\n",
    "        \"\"\"\n",
    "        # we should definitely remember how many actions there are\n",
    "        # in order to make a decision ...\n",
    "        self.k = k\n",
    "        \n",
    "        # all of the random behavior of an agent should depend on a\n",
    "        # PRNG that is initialized in the constructor, given the seed\n",
    "        \n",
    "        # whenever your agent has the need for random numbers,\n",
    "        self.rng = np.random.default_rng(seed)\n",
    "    \n",
    "    def choose_action(self):\n",
    "        \"\"\" Action selection is random \"\"\"\n",
    "        # we'll use the PRNG that has been initialized in the constructor\n",
    "        # to draw a uniformly distributed, random integer from the interval [0, k[\n",
    "        return self.rng.integers(0, self.k)\n",
    "    \n",
    "    def update_estimates(self, action, reward):\n",
    "        \"\"\" Because we behave randomly, we don't need to update anything.\"\"\"\n",
    "        pass"
   ]
  },
  {
   "cell_type": "markdown",
   "metadata": {
    "deletable": false,
    "editable": false,
    "nbgrader": {
     "cell_type": "markdown",
     "checksum": "ba7605df5623fb3706d430068428e418",
     "grade": false,
     "grade_id": "cell-84559ecbc29c5ffa",
     "locked": true,
     "schema_version": 3,
     "solution": false,
     "task": false
    }
   },
   "source": [
    "## Experimental setup\n",
    "For comparing the implemented methods, we will create similar <b>time step vs. average reward plots</b> as the ones shown in the lecture slides and the book.\n",
    "\n",
    "In order to facilitate this comparison, we will define a convenience function to run experiments. This enables us to specify an `agent_class` together with its parameters `agent_args` and then run `n_runs` different instances of the k-armed bandit problem for `n_steps` steps, using `agent_class` to solve the problems."
   ]
  },
  {
   "cell_type": "code",
   "execution_count": 8,
   "metadata": {
    "deletable": false,
    "editable": false,
    "nbgrader": {
     "cell_type": "code",
     "checksum": "64ff7d9b0458df10771a8171dba8b069",
     "grade": false,
     "grade_id": "cell-7a8f1883d80cddee",
     "locked": true,
     "schema_version": 3,
     "solution": false,
     "task": false
    }
   },
   "outputs": [],
   "source": [
    "def run_experiments(exp_seed,\n",
    "                    n_runs=2000,\n",
    "                    n_steps=1000,\n",
    "                    k=10,\n",
    "                    bandit_class=kArmedBandit,\n",
    "                    agent_class=RandomBaseline,\n",
    "                    agent_args=dict()):\n",
    "    \"\"\"\n",
    "    Run experiments following the policy of the provided agent.\n",
    "    \n",
    "    Parameters\n",
    "    ----------\n",
    "    @exp_seed: the seed for the 'mother-PRNG' that produces all other seeds\n",
    "    @n_runs: number of different bandit problems (integer)\n",
    "             (to debug your algorithms, you may set this to a lower number.\n",
    "              don't forget to change it back, once you're done with debugging!)\n",
    "    @n_steps: number of steps taken in each individual problem (integer)\n",
    "              (to debug your algorithms, you may set this to a lower number.\n",
    "              don't forget to change it back, once you're done with debugging!)\n",
    "    @k: number of actions for the bandit problems (integer)\n",
    "    @bandit_class: this allows you to change the type of bandit\n",
    "                   (please only do so for the last problem in this problem set)\n",
    "    @agent_class: specifies the bandit algorithm to use\n",
    "    @agent_args: this dictionary of arguments will be passed on\n",
    "                 to the constructor of the specified bandit algorithm,\n",
    "                 \n",
    "                 (with the exception of 'k' and 'seed', as these will be set\n",
    "                 by the experiment loop)\n",
    "    \n",
    "    Returns\n",
    "    -------\n",
    "    a numpy array of rewards with shape (n_runs, n_steps), where\n",
    "    element (i,j) contains the reward in the i-th run, on the j-th step\n",
    "    \"\"\"\n",
    "    args_list = [f'{key}={val}' for key, val in sorted(agent_args.items())]\n",
    "    args_string = ','.join(args_list)\n",
    "    print(\"running {}({})\".format(agent_class.__name__, args_string))\n",
    "    \n",
    "    # initialize results\n",
    "    rewards = np.zeros((n_runs, n_steps))\n",
    "\n",
    "    if isinstance(exp_seed, list):\n",
    "        exp_seed = exp_seed[0]\n",
    "    \n",
    "    # if we're getting entropy, initialize new seed sequence\n",
    "    if isinstance(exp_seed, int):\n",
    "        exp_seed_sequence = np.random.SeedSequence(exp_seed)\n",
    "    elif isinstance(exp_seed, np.random.SeedSequence):\n",
    "        exp_seed_sequence = exp_seed\n",
    "    else:\n",
    "        raise ValueError('please provide SeedSequence or int!')\n",
    "    \n",
    "    # perform multiple runs\n",
    "    for run in range(n_runs):\n",
    "        # split off 2 new seeds, one for the agent, one for the bandit\n",
    "        agent_seed, bandit_seed = exp_seed_sequence.spawn(2)\n",
    "\n",
    "        # instantiate agent, pass it its arguments\n",
    "        agent = agent_class(k=k, seed=agent_seed, **agent_args)\n",
    "        \n",
    "        # get new instance of problem, with new seed\n",
    "        bandit = bandit_class(k=k, seed=bandit_seed)\n",
    "\n",
    "        # perform multiple steps on problem instance\n",
    "        for step in range(n_steps):\n",
    "\n",
    "            # let the agent pick an action according to its selection strategy\n",
    "            action = agent.choose_action()\n",
    "\n",
    "            # the bandit is told the action that the agent chose, and gives out a reward\n",
    "            reward = bandit.step(action)\n",
    "\n",
    "            # the agent is told what the reward was for choosing the action\n",
    "            agent.update_estimates(action, reward)\n",
    "\n",
    "            # we will record all rewards for later analysis\n",
    "            rewards[run, step] = reward\n",
    "    \n",
    "    print(\"done!\")\n",
    "    return rewards"
   ]
  },
  {
   "cell_type": "markdown",
   "metadata": {
    "deletable": false,
    "editable": false,
    "nbgrader": {
     "cell_type": "markdown",
     "checksum": "6df8bdbd311288c517b71716fa7bfa3a",
     "grade": false,
     "grade_id": "cell-34b33d6be46b2be8",
     "locked": true,
     "schema_version": 3,
     "solution": false,
     "task": false
    }
   },
   "source": [
    "### Example Experiments, Random Action Selection\n",
    "Lets see how well our random action selection baseline performs, and run one experiment."
   ]
  },
  {
   "cell_type": "code",
   "execution_count": 9,
   "metadata": {
    "deletable": false,
    "editable": false,
    "nbgrader": {
     "cell_type": "code",
     "checksum": "3548bea1b5cbdf9a59a3f5af637aa455",
     "grade": false,
     "grade_id": "cell-0bfe5b41216ddd98",
     "locked": true,
     "schema_version": 3,
     "solution": false,
     "task": false
    }
   },
   "outputs": [
    {
     "name": "stdout",
     "output_type": "stream",
     "text": [
      "running RandomBaseline()\n",
      "done!\n"
     ]
    }
   ],
   "source": [
    "# run experiments\n",
    "rewards_random = run_experiments(exp_seed=1234, agent_class=RandomBaseline)"
   ]
  },
  {
   "cell_type": "code",
   "execution_count": 10,
   "metadata": {
    "deletable": false,
    "editable": false,
    "nbgrader": {
     "cell_type": "code",
     "checksum": "c4bdfeda4f096afb0c1ca867f6b3ea7f",
     "grade": false,
     "grade_id": "cell-e08a69e672cdfe3b",
     "locked": true,
     "schema_version": 3,
     "solution": false,
     "task": false
    }
   },
   "outputs": [
    {
     "data": {
      "image/png": "[encoded data removed]",
      "text/plain": [
       "<Figure size 432x288 with 1 Axes>"
      ]
     },
     "metadata": {
      "needs_background": "light"
     },
     "output_type": "display_data"
    }
   ],
   "source": [
    "# visualize results\n",
    "fig, ax = plt.subplots()\n",
    "ax.plot(\n",
    "    rewards_random.mean(axis=0),  # average over all runs\n",
    "    label='random baseline'       # choose a name\n",
    ")\n",
    "ax.legend(loc='best')\n",
    "ax.set_ylabel(\"Average Reward\")\n",
    "ax.set_xlabel(\"Step\")\n",
    "ax.set_title(\"Random Action Selection\")\n",
    "plt.show()"
   ]
  },
  {
   "cell_type": "markdown",
   "metadata": {
    "deletable": false,
    "editable": false,
    "nbgrader": {
     "cell_type": "markdown",
     "checksum": "483e7741fae7305eb8378870843c8bea",
     "grade": false,
     "grade_id": "cell-ac8e14733e5e24b7",
     "locked": true,
     "schema_version": 3,
     "solution": false,
     "task": false
    }
   },
   "source": [
    "### Run multiple example experiments, collect results\n",
    "Let's see how we can run multiple experiments, with different parameters."
   ]
  },
  {
   "cell_type": "code",
   "execution_count": 11,
   "metadata": {
    "deletable": false,
    "editable": false,
    "nbgrader": {
     "cell_type": "code",
     "checksum": "b6e6283f4400e28d39aea637a9060c74",
     "grade": false,
     "grade_id": "cell-2ad10da809cb7d8e",
     "locked": true,
     "schema_version": 3,
     "solution": false,
     "task": false
    }
   },
   "outputs": [
    {
     "name": "stdout",
     "output_type": "stream",
     "text": [
      "running RandomBaseline()\n",
      "done!\n",
      "running RandomBaseline()\n",
      "done!\n"
     ]
    }
   ],
   "source": [
    "# for consecutive experiments, having a so-called 'seed sequence', is\n",
    "# extremely convenient. also look it up in the documentation, to see\n",
    "# why this is a \"really good idea(tm)\"!\n",
    "exp_seed_sequence = np.random.SeedSequence(4711)\n",
    "\n",
    "# it's convenient to store the experiments in a\n",
    "# dictionary, so we can iterate over them more easily later on\n",
    "all_rewards = dict()\n",
    "all_rewards['algo A, params X, Y, ...'] = run_experiments(\n",
    "    exp_seed=exp_seed_sequence,\n",
    "    agent_class=RandomBaseline\n",
    ")\n",
    "all_rewards['algo B, params U, V, ...'] = run_experiments(\n",
    "    exp_seed=exp_seed_sequence,\n",
    "    agent_class=RandomBaseline\n",
    ")\n",
    "\n",
    "# (the algorithms in this example have the same parameters\n",
    "# but b/c they're completely random anyways, it does not matter)"
   ]
  },
  {
   "cell_type": "markdown",
   "metadata": {
    "deletable": false,
    "editable": false,
    "nbgrader": {
     "cell_type": "markdown",
     "checksum": "6183b7e3b8378e8360db45bf1d1a894c",
     "grade": false,
     "grade_id": "cell-36bdad49956dc678",
     "locked": true,
     "schema_version": 3,
     "solution": false,
     "task": false
    }
   },
   "source": [
    "### Visualize multiple results in one plot"
   ]
  },
  {
   "cell_type": "code",
   "execution_count": 11,
   "metadata": {
    "deletable": false,
    "editable": false,
    "nbgrader": {
     "cell_type": "code",
     "checksum": "d8bbeff0e2dada43fc6766d7ff37888e",
     "grade": false,
     "grade_id": "cell-89b75b81a66a7925",
     "locked": true,
     "schema_version": 3,
     "solution": false,
     "task": false
    }
   },
   "outputs": [
    {
     "data": {
      "image/png": "[encoded data removed]",
      "text/plain": [
       "<Figure size 432x288 with 1 Axes>"
      ]
     },
     "metadata": {
      "needs_background": "light"
     },
     "output_type": "display_data"
    }
   ],
   "source": [
    "fig, ax = plt.subplots()\n",
    "\n",
    "for label, rewards in all_rewards.items():\n",
    "    ax.plot(\n",
    "        rewards.mean(axis=0),  # average over axis=0, meaning 'over all runs'\n",
    "        label=label\n",
    "    )\n",
    "ax.legend(loc='best')\n",
    "ax.set_ylabel(\"Average Reward\")\n",
    "ax.set_xlabel(\"Step\")\n",
    "plt.show()"
   ]
  },
  {
   "cell_type": "markdown",
   "metadata": {
    "deletable": false,
    "editable": false,
    "nbgrader": {
     "cell_type": "markdown",
     "checksum": "6dab92fbd89da577d32061d4be15c314",
     "grade": false,
     "grade_id": "cell-efa13fb9fdb1ba56",
     "locked": true,
     "schema_version": 3,
     "solution": false,
     "task": false
    }
   },
   "source": [
    "---\n",
    "## 1.1 Incremental Sample Average Method\n",
    "\n",
    "<div class=\"alert alert-warning\"> \n",
    "Implementation of the Sample Average Method (ISAM). The algorithm is parametrized by the number of actions and a probability $\\epsilon$ of picking a random action instead of following the policy. Use the optional parameter `initial_value` to implement the \"Optimistic Initial Values\" trick that encourages exploration.\n",
    " </div>"
   ]
  },
  {
   "cell_type": "code",
   "execution_count": 12,
   "metadata": {
    "deletable": false,
    "nbgrader": {
     "cell_type": "code",
     "checksum": "18a4b4490c72813e7cb1ab9a7722ca2f",
     "grade": false,
     "grade_id": "cell-e513c97050bfe84a",
     "locked": false,
     "schema_version": 3,
     "solution": true,
     "task": false
    }
   },
   "outputs": [],
   "source": [
    "class IncrementalSampleAverageMethod():\n",
    "    def __init__(self, k=10, epsilon=0.0, initial_value=0.0, seed=None):\n",
    "        \"\"\"\n",
    "        Incremental Implementation of the \"Sample Average Method\"\n",
    "\n",
    "        Parameters\n",
    "        ----------\n",
    "            @k: number of possible actions (integer)\n",
    "            @epsilon: probability for selecting a random action (float in the interval [0, 1])\n",
    "            @initial_value: initial action value estimate (should be used for Optimistic Initial Values)\n",
    "            @seed: the PRNG seed. the PRNG will help us to decide when to explore and when to exploit\n",
    "        \"\"\"\n",
    "        self.k = k\n",
    "        self.epsilon = epsilon\n",
    "        \n",
    "        # initialize an array with our initial estimates\n",
    "        self.Q = None\n",
    "        # YOUR CODE HERE\n",
    "        self.Q = np.full((self.k,),initial_value)\n",
    "        \n",
    "        \n",
    "        # initialize an array with the action counts\n",
    "        self.N = np.full((self.k,),0)\n",
    "        \n",
    "        # seed the PRNG\n",
    "        self.rng = np.random.default_rng(seed)\n",
    "        \n",
    "    def choose_action(self):\n",
    "        \"\"\" Action selection \"\"\"\n",
    "        action = None\n",
    "        prob_gen = self.rng.uniform(0,np.nextafter(1,2)) \n",
    "        \n",
    "        if self.epsilon > prob_gen:\n",
    "            action = self.rng.integers(0, self.k)\n",
    "        \n",
    "        else:\n",
    "            action = np.argmax(self.Q)\n",
    "\n",
    "\n",
    "        return action\n",
    "    \n",
    "    def update_estimates(self, action, reward):\n",
    "        \"\"\" Update action value estimate \"\"\"\n",
    "        self.N[action] += 1.0\n",
    "        self.Q[action] = self.Q[action] + (1/self.N[action]) * (reward - self.Q[action])\n",
    "        "
   ]
  },
  {
   "cell_type": "markdown",
   "metadata": {
    "deletable": false,
    "editable": false,
    "nbgrader": {
     "cell_type": "markdown",
     "checksum": "dc793050ee431e63a763e3f2c6a4a745",
     "grade": false,
     "grade_id": "cell-f80dcc5257597d22",
     "locked": true,
     "schema_version": 3,
     "solution": false,
     "task": false
    },
    "tags": []
   },
   "source": [
    "## 1.2 Greedy vs. $\\epsilon$-Greedy\n",
    "\n",
    "In our first experiment, we will explore the influence of the random action selection probability $\\epsilon$ on the average reward we get over time.\n"
   ]
  },
  {
   "cell_type": "code",
   "execution_count": 15,
   "metadata": {
    "deletable": false,
    "nbgrader": {
     "cell_type": "code",
     "checksum": "0c9a7d9f6c829143b81e7924c33b970b",
     "grade": false,
     "grade_id": "cell-c5f2f97b99a98b82",
     "locked": false,
     "schema_version": 3,
     "solution": true,
     "task": false
    }
   },
   "outputs": [
    {
     "name": "stdout",
     "output_type": "stream",
     "text": [
      "running IncrementalSampleAverageMethod(epsilon=0.0)\n",
      "done!\n",
      "running IncrementalSampleAverageMethod(epsilon=0.01)\n",
      "done!\n",
      "running IncrementalSampleAverageMethod(epsilon=0.1)\n",
      "done!\n"
     ]
    }
   ],
   "source": [
    "# run experiments\n",
    "epsilons = [0., 0.01, 0.1]\n",
    "exp_seed_sequence = np.random.SeedSequence(1234)\n",
    "\n",
    "# store the reward squences into this dictionary\n",
    "all_rewards = {\n",
    "    'ISAM (purely greedy)': None,\n",
    "    'ISAM (epsilon = 0.01)': None,\n",
    "    'ISAM (epsilon = 0.1)': None\n",
    "}\n",
    "\n",
    "# use run_experiments to collect the rewards\n",
    "# run help(run_experiments) to see the function's parameters\n",
    "\n",
    "all_rewards['ISAM (purely greedy)'] = run_experiments(\n",
    "    exp_seed=exp_seed_sequence,\n",
    "    agent_class=IncrementalSampleAverageMethod,\n",
    "    agent_args = {'epsilon':epsilons[0]}\n",
    ")\n",
    "\n",
    "\n",
    "all_rewards['ISAM (epsilon = 0.01)'] = run_experiments(\n",
    "    exp_seed=exp_seed_sequence,\n",
    "    agent_class=IncrementalSampleAverageMethod,\n",
    "    agent_args = {'epsilon':epsilons[1]}\n",
    ")\n",
    "\n",
    "all_rewards['ISAM (epsilon = 0.1)'] = run_experiments(\n",
    "    exp_seed=exp_seed_sequence,\n",
    "    agent_class=IncrementalSampleAverageMethod,\n",
    "    agent_args = {'epsilon': epsilons[2]}\n",
    ")\n"
   ]
  },
  {
   "cell_type": "code",
   "execution_count": 17,
   "metadata": {
    "deletable": false,
    "editable": false,
    "nbgrader": {
     "cell_type": "code",
     "checksum": "fcaf8e6a2069b546a7e031787eb53832",
     "grade": false,
     "grade_id": "cell-922954945d30fe17",
     "locked": true,
     "schema_version": 3,
     "solution": false,
     "task": false
    }
   },
   "outputs": [
    {
     "data": {
      "image/png": "[encoded data removed]",
      "text/plain": [
       "<Figure size 432x288 with 1 Axes>"
      ]
     },
     "metadata": {
      "needs_background": "light"
     },
     "output_type": "display_data"
    }
   ],
   "source": [
    "# visualize results\n",
    "fig, ax = plt.subplots()\n",
    "\n",
    "for label, rewards in all_rewards.items():\n",
    "    ax.plot(\n",
    "        rewards.mean(axis=0),  # average over all runs\n",
    "        label=label\n",
    "    )\n",
    "ax.set_ylim([0.0, 1.6])\n",
    "ax.legend(loc='best')\n",
    "ax.set_ylabel(\"Average Reward\")\n",
    "ax.set_xlabel(\"Step\")\n",
    "plt.show()"
   ]
  },
  {
   "cell_type": "markdown",
   "metadata": {
    "deletable": false,
    "editable": false,
    "nbgrader": {
     "cell_type": "markdown",
     "checksum": "ab8c471adb45955f8559440afed058d1",
     "grade": false,
     "grade_id": "cell-603651936d7bfc21",
     "locked": true,
     "schema_version": 3,
     "solution": false,
     "task": false
    },
    "tags": []
   },
   "source": [
    "## 1.3 Greedy vs. Optimistic Initial Values\n",
    "In our second experiment, we evaluate the performance of another approach to encourage exploration, namely Optimistic Initial Values.\n"
   ]
  },
  {
   "cell_type": "code",
   "execution_count": 18,
   "metadata": {
    "deletable": false,
    "nbgrader": {
     "cell_type": "code",
     "checksum": "ca772087f89081849095880196c24302",
     "grade": false,
     "grade_id": "cell-a8ea27c1950a9c6a",
     "locked": false,
     "schema_version": 3,
     "solution": true,
     "task": false
    }
   },
   "outputs": [
    {
     "name": "stdout",
     "output_type": "stream",
     "text": [
      "running IncrementalSampleAverageMethod()\n",
      "done!\n",
      "running IncrementalSampleAverageMethod(initial_value=5.0)\n",
      "done!\n"
     ]
    }
   ],
   "source": [
    "# run experiments\n",
    "exp_seed_sequence = np.random.SeedSequence(1234)\n",
    "\n",
    "all_rewards = {\n",
    "    'ISAM (purely greedy)': None,\n",
    "    'OIV(initial_value=5)': None\n",
    "}\n",
    "\n",
    "\n",
    "all_rewards['ISAM (purely greedy)'] = run_experiments(\n",
    "    exp_seed=exp_seed_sequence,\n",
    "    agent_class=IncrementalSampleAverageMethod\n",
    ")\n",
    "\n",
    "\n",
    "all_rewards['OIV(initial_value=5)'] = run_experiments(\n",
    "    exp_seed=exp_seed_sequence,\n",
    "    agent_class=IncrementalSampleAverageMethod,\n",
    "    agent_args = {'initial_value':5.0}\n",
    ")"
   ]
  },
  {
   "cell_type": "code",
   "execution_count": 20,
   "metadata": {
    "deletable": false,
    "editable": false,
    "nbgrader": {
     "cell_type": "code",
     "checksum": "58104bc16b657ddbd79ed73a0e2ec353",
     "grade": false,
     "grade_id": "cell-253f7e0e73a78513",
     "locked": true,
     "schema_version": 3,
     "solution": false,
     "task": false
    }
   },
   "outputs": [
    {
     "data": {
      "image/png": "[encoded data removed]",
      "text/plain": [
       "<Figure size 432x288 with 1 Axes>"
      ]
     },
     "metadata": {
      "needs_background": "light"
     },
     "output_type": "display_data"
    }
   ],
   "source": [
    "# visualize results\n",
    "fig, ax = plt.subplots()\n",
    "\n",
    "for label, rewards in all_rewards.items():\n",
    "    ax.plot(\n",
    "        rewards.mean(axis=0),  # average over all runs\n",
    "        label=label\n",
    "    )\n",
    "ax.set_ylim([0.0, 1.6])\n",
    "ax.legend(loc='best')\n",
    "ax.set_ylabel(\"Average Reward\")\n",
    "ax.set_xlabel(\"Step\")\n",
    "plt.show()"
   ]
  },
  {
   "cell_type": "markdown",
   "metadata": {
    "deletable": false,
    "editable": false,
    "nbgrader": {
     "cell_type": "markdown",
     "checksum": "40cc6d3a1e96b9c82aae37199a4d0d38",
     "grade": false,
     "grade_id": "cell-7456269140df6dac",
     "locked": true,
     "schema_version": 3,
     "solution": false,
     "task": false
    }
   },
   "source": [
    "## 2.1 Upper Confidence Bound Action Selection (5 points)\n",
    "\n",
    "<div class=\"alert alert-warning\"> \n",
    "We implement the Upper Confidence Bound Action Selection Method. The algorithm is parametrized by the number of actions and a value $c > 0$ to control the degree of exploration. \n",
    "</div>\n",
    "\n",
    "**Important**: In case of multiple occurrences of the maximum values, the indices corresponding to the first occurrence must be returned."
   ]
  },
  {
   "cell_type": "code",
   "execution_count": 22,
   "metadata": {
    "deletable": false,
    "nbgrader": {
     "cell_type": "code",
     "checksum": "5e83bf035dbb121affaf0384f6aa7140",
     "grade": false,
     "grade_id": "cell-0621591de1e55918",
     "locked": false,
     "schema_version": 3,
     "solution": true,
     "task": false
    }
   },
   "outputs": [],
   "source": [
    "class UpperConfidenceBound():\n",
    "    def __init__(self, k=10, c=0.0, seed=None):\n",
    "        \"\"\"\n",
    "        Upper Confidence Bound Action Selection Method\n",
    "        \n",
    "        Parameters\n",
    "        ----------\n",
    "            @k: number of possible actions (integer)\n",
    "            @c: parameter that trades off exploration and exploitation\n",
    "            @seed: for this algorithm, this does not do anything, but it needs\n",
    "                   to be there, b/c all other constructors have this ...\n",
    "        \"\"\"\n",
    "        self.k = k\n",
    "        self.c = c\n",
    "                \n",
    "        # initialize value function estimates to zero\n",
    "        self.Q = np.full((self.k,),0.0)\n",
    "        \n",
    "        # initialize action counter\n",
    "        self.N = np.full((self.k,),0.0)\n",
    "\n",
    "        \n",
    "    def choose_action(self):\n",
    "        \"\"\" Action selection \"\"\"\n",
    "        if any(self.N == 0.0):\n",
    "            At = np.argmin(self.N)\n",
    "        else:\n",
    "            q_array = self.Q + self.c * np.sqrt(np.log(np.sum(self.N) + 1)/self.N)\n",
    "            At = np.argmax(q_array)\n",
    "        return At\n",
    "    \n",
    "    def update_estimates(self, action, reward):\n",
    "        \"\"\" Update action value estimate \"\"\"\n",
    "        self.N[action] += 1.0\n",
    "        self.Q[action] = self.Q[action] + (1/self.N[action]) * (reward - self.Q[action])\n"
   ]
  },
  {
   "cell_type": "markdown",
   "metadata": {
    "deletable": false,
    "editable": false,
    "nbgrader": {
     "cell_type": "markdown",
     "checksum": "beb8bbcfe71bceff041a486999494680",
     "grade": false,
     "grade_id": "cell-ebf2664e70bc24c7",
     "locked": true,
     "schema_version": 3,
     "solution": false,
     "task": false
    },
    "tags": []
   },
   "source": [
    "## 2.2 $\\epsilon$-Greedy vs Upper Confidence Bound Action Selection \n",
    "In our next experiment we compare $\\epsilon$-greedy action selection with the *UCB* action selection algorithm."
   ]
  },
  {
   "cell_type": "code",
   "execution_count": 25,
   "metadata": {
    "deletable": false,
    "nbgrader": {
     "cell_type": "code",
     "checksum": "d62b6e03971a4f8113d06d889144dc96",
     "grade": false,
     "grade_id": "cell-1172d67d366a37e5",
     "locked": false,
     "schema_version": 3,
     "solution": true,
     "task": false
    }
   },
   "outputs": [
    {
     "name": "stdout",
     "output_type": "stream",
     "text": [
      "running IncrementalSampleAverageMethod(epsilon=0.1)\n",
      "done!\n",
      "running UpperConfidenceBound(c=2)\n",
      "done!\n"
     ]
    }
   ],
   "source": [
    "exp_seed_sequence = np.random.SeedSequence(1234)\n",
    "\n",
    "# run experiments\n",
    "all_rewards = {\n",
    "    '$\\epsilon$ = 0.1': None,\n",
    "    'UCB(c=2)': None\n",
    "}\n",
    "\n",
    "\n",
    "all_rewards['$\\epsilon$ = 0.1'] = run_experiments(\n",
    "    exp_seed=exp_seed_sequence,\n",
    "    agent_class=IncrementalSampleAverageMethod,\n",
    "    agent_args = {'epsilon':0.1}\n",
    ")\n",
    "\n",
    "\n",
    "all_rewards['UCB(c=2)'] = run_experiments(\n",
    "    exp_seed=exp_seed_sequence,\n",
    "    agent_class=UpperConfidenceBound,\n",
    "    agent_args = {'c':2}\n",
    ")"
   ]
  },
  {
   "cell_type": "code",
   "execution_count": 31,
   "metadata": {
    "deletable": false,
    "editable": false,
    "nbgrader": {
     "cell_type": "code",
     "checksum": "d2a373bc315bee2a1c1bca54c8f747ac",
     "grade": false,
     "grade_id": "cell-85348210b8024ca9",
     "locked": true,
     "schema_version": 3,
     "solution": false,
     "task": false
    }
   },
   "outputs": [
    {
     "data": {
      "image/png": "[encoded data removed]",
      "text/plain": [
       "<Figure size 432x288 with 1 Axes>"
      ]
     },
     "metadata": {
      "needs_background": "light"
     },
     "output_type": "display_data"
    }
   ],
   "source": [
    "# visualize results\n",
    "fig, ax = plt.subplots()\n",
    "\n",
    "for label, rewards in all_rewards.items():\n",
    "    ax.plot(\n",
    "        rewards.mean(axis=0),  # average over all runs\n",
    "        label=label\n",
    "    )\n",
    "ax.set_ylim([0.0, 1.6])\n",
    "ax.legend(loc='best')\n",
    "ax.set_ylabel(\"Average Reward\")\n",
    "ax.set_xlabel(\"Step\")\n",
    "plt.show()"
   ]
  },
  {
   "cell_type": "markdown",
   "metadata": {
    "deletable": false,
    "editable": false,
    "nbgrader": {
     "cell_type": "markdown",
     "checksum": "1ee5ee1537c4b56ef239d971d4cff137",
     "grade": false,
     "grade_id": "cell-df9cf7f59d481203",
     "locked": true,
     "schema_version": 3,
     "solution": false,
     "task": false
    }
   },
   "source": [
    "## 3.1 Gradient Bandit Algorithm (5 points)\n",
    "\n",
    "<div class=\"alert alert-warning\"> \n",
    "Implement the Gradient Bandit Algorithm with baseline. The algorithm is parametrized by the number of actions and step size $\\alpha$.\n",
    "</div>"
   ]
  },
  {
   "cell_type": "code",
   "execution_count": 26,
   "metadata": {
    "deletable": false,
    "nbgrader": {
     "cell_type": "code",
     "checksum": "af8b48b47166bf50ebc1ecd010f2ff3d",
     "grade": false,
     "grade_id": "cell-209b9d3d4105c5a7",
     "locked": false,
     "schema_version": 3,
     "solution": true,
     "task": false
    }
   },
   "outputs": [],
   "source": [
    "class GradientBandit():\n",
    "    def __init__(self, k=10, alpha=0.1, seed=None):\n",
    "        \"\"\"\n",
    "        Gradient Bandit Action Selection Method\n",
    "\n",
    "        Parameters\n",
    "        ----------\n",
    "            @k: number of possible actions (integer)\n",
    "            @alpha: step-size parameter, or learn rate (float)\n",
    "            @seed: the PRNG seed. it'll be used to sample from the softmax distribution.\n",
    "        \"\"\" \n",
    "        self.k = k\n",
    "        self.alpha = alpha\n",
    "        self.rng = np.random.default_rng(seed)\n",
    "\n",
    "        # initialize action selection preferences, baseline and step\n",
    "        self.H = np.full((self.k,),0.0)\n",
    "        self.baseline = 0.0\n",
    "        self.step = 0\n",
    "\n",
    "        self.actions = np.arange(k)\n",
    "\n",
    "        \n",
    "    def choose_action(self):\n",
    "        \"\"\" Action selection \"\"\"\n",
    "        # choose action according to preference\n",
    "        probs = softmax(self.H)\n",
    "        At = np.random.choice(self.actions, p = probs)\n",
    "        return At\n",
    "    \n",
    "    def update_estimates(self, action, reward):\n",
    "        \"\"\" update action selection preferences \"\"\"\n",
    "        self.H[action] = self.H[action] + self.alpha * (reward - self.baseline) * (1- softmax(self.H)[action])\n",
    "        mask = self.actions != action\n",
    "        self.H[mask] = self.H[mask] - self.alpha * (reward - self.baseline ) * softmax(self.H)[mask]\n",
    "\n",
    "        self.step += 1\n",
    "        self.baseline = self.baseline + (reward - self.baseline) / self.step\n",
    "        \n",
    "\n"
   ]
  },
  {
   "cell_type": "markdown",
   "metadata": {
    "deletable": false,
    "editable": false,
    "nbgrader": {
     "cell_type": "markdown",
     "checksum": "d34fcad24994a42f4b2e8ff5a5e79bda",
     "grade": false,
     "grade_id": "cell-bded7533a0153f1f",
     "locked": true,
     "schema_version": 3,
     "solution": false,
     "task": false
    },
    "tags": []
   },
   "source": [
    "## 3.2 $\\epsilon$-Greedy vs Gradient Bandit (2 points)\n",
    "In our last experiment we compare $\\epsilon$-greedy action selection with the *GradientBandit* algorithm.\n"
   ]
  },
  {
   "cell_type": "code",
   "execution_count": 29,
   "metadata": {
    "deletable": false,
    "nbgrader": {
     "cell_type": "code",
     "checksum": "673c1a9506c9206c37eee30f6a144624",
     "grade": false,
     "grade_id": "cell-c9f7536f0b3972c9",
     "locked": false,
     "schema_version": 3,
     "solution": true,
     "task": false
    }
   },
   "outputs": [
    {
     "name": "stdout",
     "output_type": "stream",
     "text": [
      "running GradientBandit(alpha=0.01)\n",
      "done!\n",
      "running GradientBandit(alpha=0.1)\n",
      "done!\n",
      "running IncrementalSampleAverageMethod(epsilon=0.1)\n",
      "done!\n"
     ]
    }
   ],
   "source": [
    "# run experiments\n",
    "exp_seed_sequence = np.random.SeedSequence(1234)\n",
    "\n",
    "all_rewards = {\n",
    "    'GB(alpha = 0.01)': None,\n",
    "    'GB(alpha = 0.1)': None,\n",
    "    'ISAM(epsilon = 0.1)': None\n",
    "}\n",
    "\n",
    "\n",
    "all_rewards['GB(alpha = 0.01)'] = run_experiments(\n",
    "    exp_seed=exp_seed_sequence,\n",
    "    agent_class=GradientBandit,\n",
    "    agent_args = {'alpha':0.01}\n",
    ")\n",
    "\n",
    "\n",
    "all_rewards['GB(alpha = 0.1)'] = run_experiments(\n",
    "    exp_seed=exp_seed_sequence,\n",
    "    agent_class=GradientBandit,\n",
    "    agent_args = {'alpha':0.1}\n",
    ")\n",
    "\n",
    "\n",
    "all_rewards['ISAM(epsilon = 0.1)'] = run_experiments(\n",
    "    exp_seed=exp_seed_sequence,\n",
    "    agent_class=IncrementalSampleAverageMethod,\n",
    "    agent_args = {'epsilon':0.1}\n",
    ")\n",
    "\n"
   ]
  },
  {
   "cell_type": "code",
   "execution_count": 31,
   "metadata": {
    "deletable": false,
    "editable": false,
    "nbgrader": {
     "cell_type": "code",
     "checksum": "0ae8f62569dd54500a92f2fc210fdb4d",
     "grade": false,
     "grade_id": "cell-118992928a9e4cb5",
     "locked": true,
     "schema_version": 3,
     "solution": false,
     "task": false
    }
   },
   "outputs": [
    {
     "data": {
      "image/png": "[encoded data removed]",
      "text/plain": [
       "<Figure size 432x288 with 1 Axes>"
      ]
     },
     "metadata": {
      "needs_background": "light"
     },
     "output_type": "display_data"
    }
   ],
   "source": [
    "# visualize results\n",
    "fig, ax = plt.subplots()\n",
    "\n",
    "for label, rewards in all_rewards.items():\n",
    "    ax.plot(\n",
    "        rewards.mean(axis=0),  # average over all runs\n",
    "        label=label\n",
    "    )\n",
    "ax.legend(loc='best')\n",
    "ax.set_ylabel(\"Average Reward\")\n",
    "ax.set_xlabel(\"Step\")\n",
    "plt.show()"
   ]
  },
  {
   "cell_type": "markdown",
   "metadata": {
    "deletable": false,
    "editable": false,
    "nbgrader": {
     "cell_type": "markdown",
     "checksum": "fb49027ff7a9795388967b48a5cfd464",
     "grade": false,
     "grade_id": "cell-3f340c0f184c2a8d",
     "locked": true,
     "schema_version": 3,
     "solution": false,
     "task": false
    },
    "tags": []
   },
   "source": [
    "# 4. Tracking non-stationary problems\n",
    "Sample-average methods have difficulties with <b>non-stationary</b> problems. We will use a <b>modified</b> version of the 10-armed bandit, in which all the $q_{\\star}(a)$ start out equal and then take independent random walks. This is implemented already below.\n",
    "\n",
    "<div class=\"alert alert-warning\"> \n",
    "You just need to create a <b>modified version</b> of the Incremental Sample Average Method that is able to deal with non-stationary problems.\n",
    "\n",
    "You will need to run separate experiments for:\n",
    "- an action-value method using sample averages, incrementally computed by $\\alpha=\\frac{1}{n}$ (you have that already)\n",
    "- another action-value method that uses a constant step-size parameter, $\\alpha=0.1$ (you still need to create that)\n",
    "\n",
    "Use an $\\epsilon=0.1$ for both methods, and then briefly describe the behavior of the two algorithms.\n",
    "</div>"
   ]
  },
  {
   "cell_type": "code",
   "execution_count": 32,
   "metadata": {
    "deletable": false,
    "editable": false,
    "nbgrader": {
     "cell_type": "code",
     "checksum": "77ca9c09ae0b82ba2004db065a1b954b",
     "grade": false,
     "grade_id": "cell-0d465756e060de9c",
     "locked": true,
     "schema_version": 3,
     "solution": false,
     "task": false
    }
   },
   "outputs": [],
   "source": [
    "class NonstationaryKArmedBandit():\n",
    "    def __init__(self, k=10, seed=None):\n",
    "        self.k = k\n",
    "        self.rng = np.random.default_rng(seed)\n",
    "        # for the non-stationary bandit problem, all true action\n",
    "        # values will start out equal\n",
    "        self.q_star = np.zeros(k)\n",
    "    \n",
    "    def step(self, action):\n",
    "        self.q_star += self.rng.normal(0, 0.01, self.k)\n",
    "        Rt = self.rng.normal(self.q_star[action], 1)\n",
    "        return Rt"
   ]
  },
  {
   "cell_type": "code",
   "execution_count": 34,
   "metadata": {
    "deletable": false,
    "nbgrader": {
     "cell_type": "code",
     "checksum": "e801a1e56b27bd2425737fd3101f9f71",
     "grade": false,
     "grade_id": "cell-1ad35c558934e21a",
     "locked": false,
     "schema_version": 3,
     "solution": true,
     "task": false
    }
   },
   "outputs": [],
   "source": [
    "class ISAM_cs():\n",
    "    def __init__(self, k=10, epsilon=0.0, initial_value=0.0, alpha=0.1, seed=None):\n",
    "        self.k = k\n",
    "        self.epsilon = epsilon\n",
    "        self.alpha = alpha\n",
    "\n",
    "        # initialize an array with our initial estimates\n",
    "        self.Q = np.full((self.k,),initial_value)\n",
    "        \n",
    "        # seed the PRNG\n",
    "        self.rng = np.random.default_rng(seed)\n",
    "        \n",
    "    def choose_action(self):\n",
    "        \"\"\" Action selection \"\"\"\n",
    "        prob_gen = self.rng.uniform(0,np.nextafter(1,2)) \n",
    "        \n",
    "        if self.epsilon > prob_gen:\n",
    "            action = self.rng.integers(0, self.k)\n",
    "        \n",
    "        else:\n",
    "            action = np.argmax(self.Q)\n",
    "\n",
    "\n",
    "        return action\n",
    "    \n",
    "    def update_estimates(self, action, reward):\n",
    "        \"\"\" Update action value estimate \"\"\"\n",
    "        self.Q[action] = self.Q[action] + self.alpha * (reward - self.Q[action])\n",
    "\n"
   ]
  },
  {
   "cell_type": "code",
   "execution_count": 37,
   "metadata": {
    "deletable": false,
    "nbgrader": {
     "cell_type": "code",
     "checksum": "ca46d32daccbb55c146c0079bea03cfb",
     "grade": false,
     "grade_id": "cell-d3481c5767ca8411",
     "locked": false,
     "schema_version": 3,
     "solution": true,
     "task": false
    }
   },
   "outputs": [
    {
     "name": "stdout",
     "output_type": "stream",
     "text": [
      "running IncrementalSampleAverageMethod(epsilon=0.1)\n",
      "done!\n",
      "running ISAM_cs(epsilon=0.1)\n",
      "done!\n"
     ]
    }
   ],
   "source": [
    "# run experiments\n",
    "exp_seed_sequence = np.random.SeedSequence(4711)\n",
    "\n",
    "all_rewards = {\n",
    "    'ISAM(epsilon=0.1)': None,\n",
    "    'ISAM_cs(epsilon=0.1)': None\n",
    "    \n",
    "}\n",
    "\n",
    "all_rewards['ISAM(epsilon=0.1)'] = run_experiments(\n",
    "    exp_seed=exp_seed_sequence,\n",
    "    bandit_class=NonstationaryKArmedBandit,\n",
    "    agent_class=IncrementalSampleAverageMethod,\n",
    "    agent_args = {'epsilon':0.1}\n",
    ")\n",
    "\n",
    "\n",
    "all_rewards['ISAM_cs(epsilon=0.1)'] = run_experiments(\n",
    "    exp_seed=exp_seed_sequence,\n",
    "    bandit_class=NonstationaryKArmedBandit,\n",
    "    agent_class=ISAM_cs,\n",
    "    agent_args = {'epsilon':0.1}\n",
    ")"
   ]
  },
  {
   "cell_type": "code",
   "execution_count": 39,
   "metadata": {
    "deletable": false,
    "editable": false,
    "nbgrader": {
     "cell_type": "code",
     "checksum": "ffbd138b8d2bd7828a2c7b5d385bf8b0",
     "grade": false,
     "grade_id": "cell-4b9b700f215e8c59",
     "locked": true,
     "schema_version": 3,
     "solution": false,
     "task": false
    }
   },
   "outputs": [
    {
     "data": {
      "image/png": "[encoded data removed]",
      "text/plain": [
       "<Figure size 432x288 with 1 Axes>"
      ]
     },
     "metadata": {
      "needs_background": "light"
     },
     "output_type": "display_data"
    }
   ],
   "source": [
    "# visualize results\n",
    "fig, ax = plt.subplots()\n",
    "\n",
    "for label, rewards in all_rewards.items():\n",
    "    ax.plot(\n",
    "        rewards.mean(axis=0),  # average over all runs\n",
    "        label=label\n",
    "    )\n",
    "# ax.set_ylim([0.0, 1.6])\n",
    "ax.legend(loc='best')\n",
    "ax.set_ylabel(\"Average Reward\")\n",
    "ax.set_xlabel(\"Step\")\n",
    "plt.show()"
   ]
  }
 ],
 "metadata": {
  "kernelspec": {
   "display_name": "Python 3.9.12 ('base')",
   "language": "python",
   "name": "python3"
  },
  "language_info": {
   "codemirror_mode": {
    "name": "ipython",
    "version": 3
   },
   "file_extension": ".py",
   "mimetype": "text/x-python",
   "name": "python",
   "nbconvert_exporter": "python",
   "pygments_lexer": "ipython3",
   "version": "3.9.12"
  },
  "vscode": {
   "interpreter": {
    "hash": "40d3a090f54c6569ab1632332b64b2c03c39dcf918b08424e98f38b5ae0af88f"
   }
  }
 },
 "nbformat": 4,
 "nbformat_minor": 4
}
