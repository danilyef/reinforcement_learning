{
 "cells": [
  {
   "cell_type": "markdown",
   "metadata": {
    "deletable": false,
    "editable": false,
    "nbgrader": {
     "cell_type": "markdown",
     "checksum": "94528cd5135a296bca5fdfd4d6d8998e",
     "grade": false,
     "grade_id": "cell-2023dcd661a11bd7",
     "locked": true,
     "schema_version": 3,
     "solution": false,
     "task": false
    }
   },
   "source": [
    "# Dynamic Programming\n",
    "\n",
    "\n",
    "In this notebook, I will implement:\n",
    "\n",
    "- DP Policy Evaluation\n",
    "- DP Policy Improvement \n",
    "- DP Policy Iteration \n",
    "- DP Value Iteration "
   ]
  },
  {
   "cell_type": "markdown",
   "metadata": {
    "deletable": false,
    "editable": false,
    "nbgrader": {
     "cell_type": "markdown",
     "checksum": "c2973de97dba6be54732868c83aff892",
     "grade": false,
     "grade_id": "cell-01ffeca03edb8c27",
     "locked": true,
     "schema_version": 3,
     "solution": false,
     "task": false
    }
   },
   "source": [
    "# The Fishlake Environment\n",
    "\n",
    "You should be familiar with the inner workings of the `Fishlake` Environment from the lecture slides. We will now use this environment to test dynamic programming prediction and control algorithms.\n",
    "\n",
    "If you `render` the environment, it will look something like this:\n",
    "```\n",
    "WWWM\n",
    "WRWF\n",
    "SWWW\n",
    "\n",
    "W ... W.ater (may be very streamy, and mess with the fish's movement)\n",
    "S ... S.tart (a state in which the fish may start an episode)\n",
    "R ... R.ock (this is essentially a hole in the map, it is not a state!)\n",
    "\n",
    "M ... M.aize (delicious fish food; entering this state from any other\n",
    "              state will give +1 reward, and end the episode)\n",
    "F ... F.isherman (evil; entering this state from any other state will\n",
    "                  give -1 reward, and end the episode)\n",
    "```"
   ]
  },
  {
   "cell_type": "markdown",
   "metadata": {
    "deletable": false,
    "editable": false,
    "nbgrader": {
     "cell_type": "markdown",
     "checksum": "100ce0f1c0bf923ff33b47379f01c367",
     "grade": false,
     "grade_id": "cell-09d85f97122cbbe1",
     "locked": true,
     "schema_version": 3,
     "solution": false,
     "task": false
    }
   },
   "source": [
    "<h2>Preliminaries</h2>\n",
    "\n",
    "What follows are the imports, the generation of the environment and some helper functions. You have to run this cell first, before starting to implement and run your algorithms."
   ]
  },
  {
   "cell_type": "code",
   "execution_count": 3,
   "metadata": {
    "deletable": false,
    "editable": false,
    "nbgrader": {
     "cell_type": "code",
     "checksum": "b9d7886d007a716b9e6540523efbe802",
     "grade": false,
     "grade_id": "cell-54541fa0c50d0536",
     "locked": true,
     "schema_version": 3,
     "solution": false,
     "task": false
    }
   },
   "outputs": [
    {
     "name": "stdout",
     "output_type": "stream",
     "text": [
      "numpy version: 1.21.5\n",
      "matplotlib version: 3.5.1\n",
      "gym version: 0.21.0\n"
     ]
    }
   ],
   "source": [
    "import matplotlib.pyplot as plt\n",
    "import matplotlib\n",
    "import numpy as np\n",
    "import gym\n",
    "import fishlake\n",
    "from fishlake import plot_policy, plot_value_function\n",
    "import testing\n",
    "from typing import Tuple\n",
    "\n",
    "np.set_printoptions(precision=4, suppress=True, threshold=200)\n",
    "\n",
    "\n",
    "\n",
    "print('numpy version:',np.__version__)\n",
    "print('matplotlib version:',matplotlib.__version__)\n",
    "print('gym version:',gym.__version__)"
   ]
  },
  {
   "cell_type": "markdown",
   "metadata": {
    "deletable": false,
    "editable": false,
    "nbgrader": {
     "cell_type": "markdown",
     "checksum": "cea83b32aa558580fa974c2a8e983ebc",
     "grade": false,
     "grade_id": "cell-c2f3a2e8bc95daec",
     "locked": true,
     "schema_version": 3,
     "solution": false,
     "task": false
    }
   },
   "source": [
    "## Quickstart\n",
    "\n",
    "Here we give you a few hints on how to use the openai gym, what the data formats look like, etc.\n",
    "\n",
    "### Loading the Environment and Moving Around"
   ]
  },
  {
   "cell_type": "code",
   "execution_count": 4,
   "metadata": {
    "deletable": false,
    "editable": false,
    "nbgrader": {
     "cell_type": "code",
     "checksum": "3ea710664084721d0d5b198ce2485acb",
     "grade": false,
     "grade_id": "cell-b8bd71ef1ff619ec",
     "locked": true,
     "schema_version": 3,
     "solution": false,
     "task": false
    }
   },
   "outputs": [
    {
     "name": "stdout",
     "output_type": "stream",
     "text": [
      "start state 8\n",
      "\n",
      "WWWM\n",
      "WRWF\n",
      "\u001b[41mS\u001b[0mWWW\n"
     ]
    }
   ],
   "source": [
    "# load the environment\n",
    "lake_env = gym.make('FishlakeStreamy-v0')\n",
    "\n",
    "# reset it (set it back to its inital state (not strictly necessary here...))\n",
    "start_state = lake_env.reset()\n",
    "\n",
    "# if there's only one 'S' tile in the lake description, than the agent will start in this state with probability = 1\n",
    "print('start state', start_state)\n",
    "\n",
    "# let's start by looking at our environment\n",
    "lake_env.render()"
   ]
  },
  {
   "cell_type": "code",
   "execution_count": 5,
   "metadata": {
    "deletable": false,
    "editable": false,
    "nbgrader": {
     "cell_type": "code",
     "checksum": "622db08287b94343eb72f332026e5a66",
     "grade": false,
     "grade_id": "cell-54f77820d9e15c34",
     "locked": true,
     "schema_version": 3,
     "solution": false,
     "task": false
    }
   },
   "outputs": [
    {
     "name": "stdout",
     "output_type": "stream",
     "text": [
      "(9, 0, False, {'prob': 0.8})\n"
     ]
    }
   ],
   "source": [
    "# now let's try to move around:\n",
    "result = lake_env.step(2) # let's try to move right\n",
    "print(result)\n",
    "# the result will look something like this:\n",
    "# (9, 0, False, {'prob': 0.8})"
   ]
  },
  {
   "cell_type": "code",
   "execution_count": 6,
   "metadata": {
    "deletable": false,
    "editable": false,
    "nbgrader": {
     "cell_type": "code",
     "checksum": "1639f296bae786a6d1b5f6a99591bfd9",
     "grade": false,
     "grade_id": "cell-664ea76c4dfd9eb8",
     "locked": true,
     "schema_version": 3,
     "solution": false,
     "task": false
    }
   },
   "outputs": [
    {
     "name": "stdout",
     "output_type": "stream",
     "text": [
      "  (Right)\n",
      "WWWM\n",
      "WRWF\n",
      "S\u001b[41mW\u001b[0mWW\n"
     ]
    }
   ],
   "source": [
    "# (9, 0, ...           means that we are now in state 9, and we got 0 reward for our last step\n",
    "# ..., False, ...      means it is not a goal state\n",
    "# ..., {'prob': 0.8})  denotes the transition probability from the previous state to the current state\n",
    "\n",
    "# we can have another look at our environment (chances are that the agent moved away from the inital square)\n",
    "lake_env.render()"
   ]
  },
  {
   "cell_type": "markdown",
   "metadata": {
    "deletable": false,
    "editable": false,
    "nbgrader": {
     "cell_type": "markdown",
     "checksum": "0cb0d3808fed618581922ff221bf9296",
     "grade": false,
     "grade_id": "cell-e1d35d600bfdc7b9",
     "locked": true,
     "schema_version": 3,
     "solution": false,
     "task": false
    }
   },
   "source": [
    "### Accessing Information about the Environment"
   ]
  },
  {
   "cell_type": "code",
   "execution_count": 7,
   "metadata": {
    "deletable": false,
    "editable": false,
    "nbgrader": {
     "cell_type": "code",
     "checksum": "60e4e97c447d2666d0a8c5b821e8d76f",
     "grade": false,
     "grade_id": "cell-67381625ac97de2b",
     "locked": true,
     "schema_version": 3,
     "solution": false,
     "task": false
    }
   },
   "outputs": [
    {
     "name": "stdout",
     "output_type": "stream",
     "text": [
      "Number of States:  11\n",
      "Number of Actions:  4\n"
     ]
    }
   ],
   "source": [
    "# we have perfect information about our environment (and you should make use of it in your code...):\n",
    "print(\"Number of States: \", lake_env.observation_space.n)  # we can access the number of states\n",
    "print(\"Number of Actions: \", lake_env.action_space.n)          # we can access the number of actions"
   ]
  },
  {
   "cell_type": "code",
   "execution_count": 8,
   "metadata": {
    "deletable": false,
    "editable": false,
    "nbgrader": {
     "cell_type": "code",
     "checksum": "404aee503ed402c0bce2d7be3578ea6f",
     "grade": false,
     "grade_id": "cell-ca214e39c6a605fe",
     "locked": true,
     "schema_version": 3,
     "solution": false,
     "task": false
    }
   },
   "outputs": [
    {
     "name": "stdout",
     "output_type": "stream",
     "text": [
      "\n",
      "For example, the dynamics for state 2 look like this:\n",
      "{0: [(0.8, 1, 0, False), (0.1, 2, 0, False), (0.1, 5, 0, False)], 2: [(0.8, 3, 1, True), (0.1, 2, 0, False), (0.1, 5, 0, False)], 3: [(0.8, 2, 0, False), (0.1, 1, 0, False), (0.1, 3, 1, True)], 1: [(0.8, 5, 0, False), (0.1, 1, 0, False), (0.1, 3, 1, True)]}\n",
      "\n",
      "And if the agent is in state 1 and chooses action 3, these are the dynamics:\n",
      "[(0.8, 1, 0, False), (0.1, 0, 0, False), (0.1, 2, 0, False)]\n"
     ]
    }
   ],
   "source": [
    "# the dynamics are given as a dictionary containing dictionaries containing lists\n",
    "# you can print the full dynamics by uncommenting the next line (it's a lot of text...)\n",
    "# print(\"Dynamics: \", lake_env.P)\n",
    "state = 2\n",
    "print(f\"\\nFor example, the dynamics for state {state} look like this:\")\n",
    "print(lake_env.P[state])\n",
    "\n",
    "state = 1\n",
    "action = 3\n",
    "print(f\"\\nAnd if the agent is in state {state} and chooses action {action}, these are the dynamics:\")\n",
    "print(lake_env.P[state][action])\n",
    "\n"
   ]
  },
  {
   "cell_type": "code",
   "execution_count": 9,
   "metadata": {
    "deletable": false,
    "editable": false,
    "nbgrader": {
     "cell_type": "code",
     "checksum": "fc688a95ddb5a44b90aca1fe3ee01132",
     "grade": false,
     "grade_id": "cell-aebf60411154778f",
     "locked": true,
     "schema_version": 3,
     "solution": false,
     "task": false
    }
   },
   "outputs": [
    {
     "name": "stdout",
     "output_type": "stream",
     "text": [
      "\n",
      "Let's iterate over the possible successor states, if we are in state 1 and select action 2:\n",
      "0.8 2 0\n",
      "0.1 1 0\n",
      "0.1 1 0\n"
     ]
    }
   ],
   "source": [
    "state = 1\n",
    "action = 2\n",
    "print(f\"\\nLet's iterate over the possible successor states, if we are in state {state} and select action {action}:\")\n",
    "for p_next_state, next_state, reward, _ in lake_env.P[state][action]:\n",
    "    print(p_next_state, next_state, reward)"
   ]
  },
  {
   "cell_type": "markdown",
   "metadata": {
    "deletable": false,
    "editable": false,
    "nbgrader": {
     "cell_type": "markdown",
     "checksum": "1172d83cc3623c9ec40d1ba172b99d32",
     "grade": false,
     "grade_id": "cell-a8058c9071e776d4",
     "locked": true,
     "schema_version": 3,
     "solution": false,
     "task": false
    }
   },
   "source": [
    "### Storing the Policy and the Value Function\n",
    "We will use a 2 dimensional `np.array` to store policies.\n",
    "- the number of rows is given by the number of states\n",
    "- the number of columns is given by the number of actions"
   ]
  },
  {
   "cell_type": "code",
   "execution_count": 10,
   "metadata": {
    "deletable": false,
    "editable": false,
    "nbgrader": {
     "cell_type": "code",
     "checksum": "81f76a5a782010200b887b442f3c2c1d",
     "grade": false,
     "grade_id": "cell-eed09b81d80192ab",
     "locked": true,
     "schema_version": 3,
     "solution": false,
     "task": false
    }
   },
   "outputs": [
    {
     "name": "stdout",
     "output_type": "stream",
     "text": [
      "The random policy:\n",
      "[[0.25 0.25 0.25 0.25]\n",
      " [0.25 0.25 0.25 0.25]\n",
      " [0.25 0.25 0.25 0.25]\n",
      " [0.25 0.25 0.25 0.25]\n",
      " [0.25 0.25 0.25 0.25]\n",
      " [0.25 0.25 0.25 0.25]\n",
      " [0.25 0.25 0.25 0.25]\n",
      " [0.25 0.25 0.25 0.25]\n",
      " [0.25 0.25 0.25 0.25]\n",
      " [0.25 0.25 0.25 0.25]\n",
      " [0.25 0.25 0.25 0.25]]\n",
      "\n",
      "Let's plot the random policy:\n"
     ]
    },
    {
     "data": {
      "image/png": "[encoded data removed]",
      "text/plain": [
       "<Figure size 432x288 with 1 Axes>"
      ]
     },
     "metadata": {
      "needs_background": "light"
     },
     "output_type": "display_data"
    }
   ],
   "source": [
    "# let's create a random policy:\n",
    "random_policy = np.ones([\n",
    "    lake_env.observation_space.n,\n",
    "    lake_env.action_space.n\n",
    "])\n",
    "random_policy = random_policy / lake_env.action_space.n\n",
    "\n",
    "print(\"The random policy:\")\n",
    "print(random_policy)\n",
    "\n",
    "print(\"\\nLet's plot the random policy:\")\n",
    "fig, ax = plt.subplots()\n",
    "plot_policy(ax, lake_env, random_policy)\n",
    "plt.show()"
   ]
  },
  {
   "cell_type": "markdown",
   "metadata": {
    "deletable": false,
    "editable": false,
    "nbgrader": {
     "cell_type": "markdown",
     "checksum": "a78940b4718e7a20abfb74708579803c",
     "grade": false,
     "grade_id": "cell-c8cdfe54efdcf5b7",
     "locked": true,
     "schema_version": 3,
     "solution": false,
     "task": false
    }
   },
   "source": [
    "We will use a 1 dimensional `np.array` to store value functions.\n",
    "\n",
    "The length of this array is given by the number of states"
   ]
  },
  {
   "cell_type": "code",
   "execution_count": 11,
   "metadata": {
    "deletable": false,
    "editable": false,
    "nbgrader": {
     "cell_type": "code",
     "checksum": "c9c2f20078cfd66f757bdb16a505bdc9",
     "grade": false,
     "grade_id": "cell-d783e3384d046fda",
     "locked": true,
     "schema_version": 3,
     "solution": false,
     "task": false
    }
   },
   "outputs": [
    {
     "name": "stdout",
     "output_type": "stream",
     "text": [
      "\n",
      "A Value Function, initialized with 0:\n",
      "\n",
      "[0. 0. 0. 0. 0. 0. 0. 0. 0. 0. 0.]\n",
      "\n",
      "Let's plot the all-zero value function:\n"
     ]
    },
    {
     "data": {
      "image/png": "[encoded data removed]",
      "text/plain": [
       "<Figure size 432x288 with 1 Axes>"
      ]
     },
     "metadata": {
      "needs_background": "light"
     },
     "output_type": "display_data"
    }
   ],
   "source": [
    "V = np.zeros(lake_env.observation_space.n)\n",
    "\n",
    "print(\"\\nA Value Function, initialized with 0:\\n\")\n",
    "print(V)\n",
    "\n",
    "print(\"\\nLet's plot the all-zero value function:\")\n",
    "fig, ax = plt.subplots()\n",
    "plot_value_function(ax, lake_env, V)\n",
    "plt.show()"
   ]
  },
  {
   "cell_type": "markdown",
   "metadata": {
    "deletable": false,
    "editable": false,
    "nbgrader": {
     "cell_type": "markdown",
     "checksum": "a8331a798ce536009d43c7179cf63abf",
     "grade": false,
     "grade_id": "cell-80be7ac2af2ce34c",
     "locked": true,
     "schema_version": 3,
     "solution": false,
     "task": false
    }
   },
   "source": [
    "##  Policy Evaluation \n",
    "We will implement in-place version of policy evaluation"
   ]
  },
  {
   "cell_type": "code",
   "execution_count": 12,
   "metadata": {
    "deletable": false,
    "nbgrader": {
     "cell_type": "code",
     "checksum": "bf2e8d43701986a62f165a02cb57b990",
     "grade": false,
     "grade_id": "cell-ec5323013de3b869",
     "locked": false,
     "schema_version": 3,
     "solution": true,
     "task": false
    }
   },
   "outputs": [],
   "source": [
    "def policy_evaluation(env: gym.Env, policy: np.ndarray, initial_V: np.ndarray, gamma: float, theta: float = 1e-8) -> np.ndarray:\n",
    "    \"\"\"\n",
    "    Policy Evaluation via Dynamic Programming\n",
    "    \n",
    "    Args:\n",
    "        env: the openai gym environment\n",
    "        policy: the policy to be evaluated\n",
    "        initial_V: the initial value function\n",
    "        gamma: the discount factor\n",
    "        theta: the stopping criterion (leave this alone)\n",
    "    \n",
    "    Returns:\n",
    "        the value function for a given policy\n",
    "    \"\"\"\n",
    "    V = initial_V.copy()\n",
    "\n",
    "    num_states = env.observation_space.n\n",
    "    num_actions = env.action_space.n\n",
    "\n",
    "    delta = theta * 100    \n",
    "    while delta > theta:\n",
    "        delta = 0\n",
    "        for state in range(num_states):\n",
    "            new_state = 0\n",
    "            for action in range(num_actions):\n",
    "                prob_s_r = env.P[state][action]\n",
    "                for dynamics in prob_s_r:\n",
    "                    prob,next_state,reward,finish = dynamics\n",
    "                    #if achieved the final point -> agent doesn't go to the next state\n",
    "                    if finish:\n",
    "                        new_state += policy[state,action] * prob * reward\n",
    "                    else:\n",
    "                        new_state += policy[state,action] * prob * (reward + gamma * V[next_state])\n",
    "                \n",
    "            delta = max(delta, np.abs(new_state - V[state])) \n",
    "            V[state] = new_state\n",
    "    return V\n",
    "\n",
    "\n"
   ]
  },
  {
   "cell_type": "code",
   "execution_count": 13,
   "metadata": {
    "deletable": false,
    "editable": false,
    "nbgrader": {
     "cell_type": "code",
     "checksum": "3b46e7f229094b9ce86787d8f5914ddf",
     "grade": true,
     "grade_id": "cell-3d878b238c881fd6",
     "locked": true,
     "points": 4,
     "schema_version": 3,
     "solution": false,
     "task": false
    }
   },
   "outputs": [],
   "source": [
    "# let's create a random policy:\n",
    "random_policy = np.ones([\n",
    "    lake_env.observation_space.n,\n",
    "    lake_env.action_space.n\n",
    "])\n",
    "random_policy = random_policy / lake_env.action_space.n\n",
    "\n",
    "# we will now evaluate the random policy, and obtain its associated value function\n",
    "V_0 = np.zeros(lake_env.observation_space.n)\n",
    "V_0 = policy_evaluation(lake_env, random_policy, V_0, gamma=0.9)\n",
    "\n",
    "# at least one value should be different from the intial value, otherwise we assume it's not implemented/ incorrect ...\n",
    "assert testing.is_type(V_0, np.ndarray)\n",
    "assert testing.numpy_array_has_shape(V_0, (lake_env.observation_space.n,))\n",
    "assert np.any(V_0 != 0), \"your implementation of policy_evaluation returns the intial values without modifications\""
   ]
  },
  {
   "cell_type": "markdown",
   "metadata": {
    "deletable": false,
    "editable": false,
    "nbgrader": {
     "cell_type": "markdown",
     "checksum": "921cd78f775c2931611de26413a2ed38",
     "grade": false,
     "grade_id": "cell-a142a65f5cb8579a",
     "locked": true,
     "schema_version": 3,
     "solution": false,
     "task": false
    }
   },
   "source": [
    "### Run DP Policy Evaluation \n",
    "Okay, let's now run the implemented algorithm on the fishlake environment."
   ]
  },
  {
   "cell_type": "code",
   "execution_count": 14,
   "metadata": {
    "deletable": false,
    "editable": false,
    "nbgrader": {
     "cell_type": "code",
     "checksum": "c9959aad3568edde814f7c6d9e27d604",
     "grade": false,
     "grade_id": "cell-323da980d97a6343",
     "locked": true,
     "schema_version": 3,
     "solution": false,
     "task": false
    }
   },
   "outputs": [
    {
     "data": {
      "image/png": "[encoded data removed]",
      "text/plain": [
       "<Figure size 432x288 with 2 Axes>"
      ]
     },
     "metadata": {
      "needs_background": "light"
     },
     "output_type": "display_data"
    }
   ],
   "source": [
    "V = policy_evaluation(lake_env, random_policy, V_0, gamma=0.9)\n",
    "\n",
    "fig, axes = plt.subplots(ncols=2)\n",
    "plot_policy(axes[0], lake_env, random_policy)\n",
    "\n",
    "plot_value_function(axes[1], lake_env, V)\n",
    "axes[0].set_title('$\\pi(a | s)$')\n",
    "axes[1].set_title('$v_{\\pi}(s)$')\n",
    "plt.show()"
   ]
  },
  {
   "cell_type": "markdown",
   "metadata": {
    "deletable": false,
    "editable": false,
    "nbgrader": {
     "cell_type": "markdown",
     "checksum": "5e8dd7808cf026c33f034eac85adaab1",
     "grade": false,
     "grade_id": "cell-078dfb22e764e473",
     "locked": true,
     "schema_version": 3,
     "solution": false,
     "task": false
    }
   },
   "source": [
    "## Policy Improvement\n",
    "\n",
    "Here you have to implement one step lookahead and the policy improvement algorithm. We will use policy improvement  later on within the policy iteration algorithm to compute the optimal policy.\n",
    "\n",
    "Onset step lookahead computes the state-action values for a given state using the current state values and the dynamics. This is usefull in several dynamic programming algorithms."
   ]
  },
  {
   "cell_type": "code",
   "execution_count": 15,
   "metadata": {
    "deletable": false,
    "nbgrader": {
     "cell_type": "code",
     "checksum": "9ab5d59e8c84f93d2b9d6e73b364d9aa",
     "grade": false,
     "grade_id": "cell-ff0eb610bad7090b",
     "locked": false,
     "schema_version": 3,
     "solution": true,
     "task": false
    }
   },
   "outputs": [],
   "source": [
    "def one_step_lookahead(env: gym.Env, state: int, V: np.ndarray, gamma: float) -> np.ndarray:\n",
    "    \"\"\"   \n",
    "    \n",
    "    Compute the action value q(s = state, a) for all actions a.\n",
    "    \n",
    "    Args:\n",
    "        env: the openai gym environment\n",
    "        state: index of the state in environment to compute the action vales for\n",
    "        V: current value function\n",
    "        gamma: discount factor\n",
    "    \n",
    "    Returns:\n",
    "        a 1D numpy array containing the action values for state s\n",
    "    \"\"\"\n",
    "    A = np.zeros(env.action_space.n)\n",
    "\n",
    "    for action in range(env.action_space.n):\n",
    "        prob_s_r = env.P[state][action]\n",
    "        for dynamics in prob_s_r:\n",
    "            prob,next_state,reward,finish = dynamics\n",
    "            if finish:\n",
    "                A[action] +=  prob * reward\n",
    "            else:\n",
    "                A[action] +=  prob * (reward + gamma * V[next_state])\n",
    "    return A"
   ]
  },
  {
   "cell_type": "code",
   "execution_count": 16,
   "metadata": {
    "deletable": false,
    "editable": false,
    "nbgrader": {
     "cell_type": "code",
     "checksum": "96365600653c9c8ed179fab21ab12c16",
     "grade": true,
     "grade_id": "cell-fe293a96690c748c",
     "locked": true,
     "points": 1,
     "schema_version": 3,
     "solution": false,
     "task": false
    }
   },
   "outputs": [],
   "source": [
    "gamma = 0.9\n",
    "action_values = one_step_lookahead(lake_env, 0, np.ones(lake_env.observation_space.n), gamma)\n",
    "\n",
    "assert testing.is_type(action_values, np.ndarray)\n",
    "assert testing.numpy_array_has_shape(action_values, (lake_env.action_space.n,))\n",
    "assert not all(action_values == 0), \"initial values of action-values did not change but should\""
   ]
  },
  {
   "cell_type": "code",
   "execution_count": 17,
   "metadata": {
    "deletable": false,
    "nbgrader": {
     "cell_type": "code",
     "checksum": "35676648858b74a43542f8badffc9435",
     "grade": false,
     "grade_id": "cell-6c510968cfc43e7a",
     "locked": false,
     "schema_version": 3,
     "solution": true,
     "task": false
    }
   },
   "outputs": [],
   "source": [
    "def policy_improvement(env: gym.Env, old_policy: np.ndarray, V: np.ndarray, gamma: float) -> Tuple[np.ndarray, bool]:\n",
    "    \"\"\"\n",
    "    Policy Improvement\n",
    "    Args:\n",
    "        env: the openai gym environment\n",
    "        old_policy: the policy to be evaluated\n",
    "        V: the value function of the policy\n",
    "        gamma: discount factor\n",
    "    \n",
    "    Returns:\n",
    "        a tuple consisting of the improved policy (a numpy array)\n",
    "        and a boolean, indicating it the policy is stable (i.e. was not changed)\n",
    "    \"\"\"\n",
    "    num_states = env.observation_space.n\n",
    "\n",
    "    improved_policy = np.zeros_like(old_policy)\n",
    "    policy_stable = True\n",
    "\n",
    "    for state in range(num_states):\n",
    "        action_old = np.argmax(old_policy[state])\n",
    "        action_new = np.argmax(one_step_lookahead(env,state,V, gamma))\n",
    "        \n",
    "        #acting greadily\n",
    "        improved_policy[state,action_new] = 1\n",
    "        if action_old != action_new:\n",
    "            policy_stable = False    \n",
    "    \n",
    "    return improved_policy, policy_stable"
   ]
  },
  {
   "cell_type": "code",
   "execution_count": 18,
   "metadata": {
    "deletable": false,
    "editable": false,
    "nbgrader": {
     "cell_type": "code",
     "checksum": "7338346b07adccfbfeffcfe5a2c363d5",
     "grade": true,
     "grade_id": "cell-849e7cd68b563661",
     "locked": true,
     "points": 3,
     "schema_version": 3,
     "solution": false,
     "task": false
    }
   },
   "outputs": [],
   "source": [
    "gamma = 0.9\n",
    "\n",
    "# again, we start with a random policy\n",
    "policy_0 = np.ones([\n",
    "    lake_env.observation_space.n,\n",
    "    lake_env.action_space.n\n",
    "])\n",
    "policy_0 = policy_0 / lake_env.action_space.n\n",
    "\n",
    "# we will then evaluate the random policy and obtain its associated value function\n",
    "V_0 = policy_evaluation(lake_env, policy_0, np.zeros(lake_env.observation_space.n), gamma=gamma)\n",
    "\n",
    "# do one step of policy improvement\n",
    "policy_1, policy_stable = policy_improvement(lake_env, policy_0, V_0, gamma=gamma)\n",
    "\n",
    "# check data type of result\n",
    "assert testing.is_type(policy_stable, bool)\n",
    "assert testing.is_type(policy_1, np.ndarray)\n",
    "\n",
    "# check if valid policy\n",
    "assert testing.numpy_array_has_shape(policy_1, policy_0.shape)\n",
    "assert np.isclose(policy_1.sum(axis=1), 1).all(), 'Probabilities of all actions must sum to one.'\n",
    "\n",
    "# compute values for new policy\n",
    "V_1 = policy_evaluation(lake_env, policy_1, V_0, gamma=gamma)"
   ]
  },
  {
   "cell_type": "markdown",
   "metadata": {
    "deletable": false,
    "editable": false,
    "nbgrader": {
     "cell_type": "markdown",
     "checksum": "8809c83fe19481745f72da686f44afb4",
     "grade": false,
     "grade_id": "cell-d09e588437648cc4",
     "locked": true,
     "schema_version": 3,
     "solution": false,
     "task": false
    }
   },
   "source": [
    "### Run Policy Improvement"
   ]
  },
  {
   "cell_type": "code",
   "execution_count": 19,
   "metadata": {
    "deletable": false,
    "editable": false,
    "nbgrader": {
     "cell_type": "code",
     "checksum": "0a7579b0148cb25845d171e143cf644e",
     "grade": false,
     "grade_id": "cell-50279d0e5dc29fab",
     "locked": true,
     "schema_version": 3,
     "solution": false,
     "task": false
    }
   },
   "outputs": [
    {
     "data": {
      "image/png": "[encoded data removed]",
      "text/plain": [
       "<Figure size 720x432 with 4 Axes>"
      ]
     },
     "metadata": {
      "needs_background": "light"
     },
     "output_type": "display_data"
    }
   ],
   "source": [
    "fig, axes = plt.subplots(nrows=2, ncols=2, figsize=(10, 6))\n",
    "fig.suptitle(f'policy_stable = {policy_stable}')\n",
    "axes[0, 0].set_title('$\\pi_0(a | s)$')\n",
    "axes[0, 1].set_title('$v_{\\pi_0}(s)$')\n",
    "axes[1, 0].set_title('$\\pi_1(a | s)$')\n",
    "axes[1, 1].set_title('$v_{\\pi_1}(s)$')\n",
    "\n",
    "plot_policy(axes[0, 0], lake_env, policy_0)\n",
    "plot_value_function(axes[0, 1], lake_env, V_0)\n",
    "plot_policy(axes[1, 0], lake_env, policy_1)\n",
    "plot_value_function(axes[1, 1], lake_env, V_1)\n",
    "plt.tight_layout()\n",
    "plt.show()"
   ]
  },
  {
   "cell_type": "markdown",
   "metadata": {
    "deletable": false,
    "editable": false,
    "nbgrader": {
     "cell_type": "markdown",
     "checksum": "649d522b589aea336c62f0c5b5f17e52",
     "grade": false,
     "grade_id": "cell-acc23dc383db4c8e",
     "locked": true,
     "schema_version": 3,
     "solution": false,
     "task": false
    }
   },
   "source": [
    "## Policy Iteration "
   ]
  },
  {
   "cell_type": "code",
   "execution_count": 20,
   "metadata": {
    "deletable": false,
    "nbgrader": {
     "cell_type": "code",
     "checksum": "041e6990fd2a39f8976cafaa943aa52f",
     "grade": false,
     "grade_id": "cell-9ce2abacd2d0701a",
     "locked": false,
     "schema_version": 3,
     "solution": true,
     "task": false
    }
   },
   "outputs": [],
   "source": [
    "def policy_iteration(env: gym.Env, policy: np.ndarray, gamma: float) -> Tuple[np.ndarray, np.ndarray]:\n",
    "    \"\"\"\n",
    "    Policy Iteration\n",
    "    \n",
    "    Args:\n",
    "        env: the openai gym environment\n",
    "        policy: the policy to be evaluated\n",
    "        gamma: the discount factor\n",
    "    \n",
    "    Returns:\n",
    "        a tuple consisting of\n",
    "        the optimal policy\n",
    "        and the respective value function\n",
    "    \"\"\"\n",
    "    #1. initialize V(s) and policy(s) arbirtrarily:\n",
    "    V = np.zeros(env.observation_space.n)\n",
    "    policy = np.copy(policy)\n",
    "    policy_stable = False\n",
    "\n",
    "   \n",
    "    while True:\n",
    "        #2. Evaluation of the policy, obrain current estimate V:\n",
    "        V = policy_evaluation(env, policy, V, gamma)\n",
    "        #3. Improve policy:\n",
    "        policy, policy_stable = policy_improvement(env, policy, V, gamma)\n",
    "        if policy_stable:\n",
    "            return policy, V\n",
    "    \n"
   ]
  },
  {
   "cell_type": "code",
   "execution_count": 21,
   "metadata": {
    "deletable": false,
    "editable": false,
    "nbgrader": {
     "cell_type": "code",
     "checksum": "62fe640a949a90b1c0cb6405d3c350e3",
     "grade": true,
     "grade_id": "cell-3066c89e4775b6f9",
     "locked": true,
     "points": 2,
     "schema_version": 3,
     "solution": false,
     "task": false
    }
   },
   "outputs": [],
   "source": [
    "gamma = 0.9\n",
    "\n",
    "# again, we start with a random policy\n",
    "policy_0 = np.ones([\n",
    "    lake_env.observation_space.n,\n",
    "    lake_env.action_space.n\n",
    "])\n",
    "policy_0 = policy_0 / lake_env.action_space.n\n",
    "\n",
    "# do policy iteration until convergence\n",
    "policy_optimal, V_optimal = policy_iteration(lake_env, policy_0, gamma)\n",
    "\n",
    "# check data type of result\n",
    "assert testing.is_type(policy_optimal, np.ndarray)\n",
    "assert testing.is_type(V_optimal, np.ndarray)\n",
    "\n",
    "# check if valid policy and value array\n",
    "assert testing.numpy_array_has_shape(policy_optimal, policy_0.shape)\n",
    "assert testing.numpy_array_has_shape(V_optimal, (lake_env.observation_space.n,))\n",
    "\n",
    "# some more checks ...\n",
    "assert np.isclose(policy_1.sum(axis=1), 1).all(), 'Probabilities of all actions must sum to one.'\n",
    "assert not np.isclose(policy_optimal, policy_0).all(), \"Initial policy not updated.\"\n",
    "assert not all(V_optimal == 0), \"Initial values not updated.\""
   ]
  },
  {
   "cell_type": "markdown",
   "metadata": {
    "deletable": false,
    "editable": false,
    "nbgrader": {
     "cell_type": "markdown",
     "checksum": "54a29097c604b70529cefebb21068919",
     "grade": false,
     "grade_id": "cell-ad3b37449e52a811",
     "locked": true,
     "schema_version": 3,
     "solution": false,
     "task": false
    }
   },
   "source": [
    "### Run DP Policy Iteration\n",
    "\n",
    "Next, let's improve a random policy and compute the optimal policy by using  policy iteration."
   ]
  },
  {
   "cell_type": "code",
   "execution_count": 22,
   "metadata": {},
   "outputs": [
    {
     "data": {
      "image/png": "[encoded data removed]",
      "text/plain": [
       "<Figure size 432x288 with 2 Axes>"
      ]
     },
     "metadata": {
      "needs_background": "light"
     },
     "output_type": "display_data"
    }
   ],
   "source": [
    "# let's create a random policy\n",
    "policy = np.ones([lake_env.observation_space.n, lake_env.action_space.n]) / lake_env.action_space.n\n",
    "\n",
    "# and now let's compute an optimal policy via the policy iteration algorithm\n",
    "policy, value_function = policy_iteration(lake_env, policy, gamma=0.99)\n",
    "\n",
    "fig, axes = plt.subplots(ncols=2)\n",
    "plot_policy(axes[0], lake_env, policy)\n",
    "plot_value_function(axes[1], lake_env, value_function)\n",
    "plt.show()"
   ]
  },
  {
   "cell_type": "markdown",
   "metadata": {
    "deletable": false,
    "editable": false,
    "nbgrader": {
     "cell_type": "markdown",
     "checksum": "5a10176bf53194a41b5de8003bf79a04",
     "grade": false,
     "grade_id": "cell-146782b273869d78",
     "locked": true,
     "schema_version": 3,
     "solution": false,
     "task": false
    }
   },
   "source": [
    "## Value Iteration "
   ]
  },
  {
   "cell_type": "code",
   "execution_count": 24,
   "metadata": {
    "deletable": false,
    "nbgrader": {
     "cell_type": "code",
     "checksum": "6987fdc9b2764c4b0c8f1d71029afe2e",
     "grade": false,
     "grade_id": "cell-dc066fb1d9996e3e",
     "locked": false,
     "schema_version": 3,
     "solution": true,
     "task": false
    }
   },
   "outputs": [],
   "source": [
    "def value_iteration(env: gym.Env, gamma: float, theta: float = 1e-8) -> Tuple[np.ndarray, np.ndarray]:\n",
    "    \"\"\"\n",
    "    Value Iteration\n",
    "    \n",
    "    Args:\n",
    "        env: the openai gym environment\n",
    "        gamma: discount factor gamma\n",
    "        theta: the stopping criterion\n",
    "    \n",
    "    Returns:\n",
    "        a tuple consisting of\n",
    "        the optimal policy\n",
    "        and the respective value function\n",
    "    \"\"\"\n",
    "    V = np.zeros(env.observation_space.n)\n",
    "    policy = np.zeros([env.observation_space.n, env.action_space.n])\n",
    "\n",
    "    num_states = env.observation_space.n\n",
    "    num_actions = env.action_space.n\n",
    "    delta = theta * 100\n",
    "    while delta > theta:\n",
    "        for state in range(num_states):\n",
    "            delta = 0\n",
    "            old_value = V[state]\n",
    "            V[state] = max(one_step_lookahead(env,state,V, gamma))\n",
    "\n",
    "            delta = max(delta,np.abs(old_value - V[state]))\n",
    "\n",
    "    policy = policy_improvement(env,policy,V,gamma)[0]\n",
    "    return policy, V"
   ]
  },
  {
   "cell_type": "code",
   "execution_count": 25,
   "metadata": {
    "deletable": false,
    "editable": false,
    "nbgrader": {
     "cell_type": "code",
     "checksum": "32222ccb6fc900ac35dc39cc2e39de9e",
     "grade": true,
     "grade_id": "cell-1ce649af690fcb46",
     "locked": true,
     "points": 5,
     "schema_version": 3,
     "solution": false,
     "task": false
    }
   },
   "outputs": [],
   "source": [
    "gamma = 0.9\n",
    "\n",
    "policy_optimal, V_optimal = value_iteration(lake_env, gamma)\n",
    "\n",
    "# check the results data type\n",
    "assert testing.is_type(policy_optimal, np.ndarray)\n",
    "assert testing.is_type(V_optimal, np.ndarray)\n",
    "\n",
    "# check if valid policy and value array\n",
    "assert testing.numpy_array_has_shape(policy_optimal, (lake_env.observation_space.n, lake_env.action_space.n))\n",
    "assert testing.numpy_array_has_shape(V_optimal, (lake_env.observation_space.n,))\n",
    "\n",
    "# some more checks ...\n",
    "assert not all(V_optimal == 0), \"Initial values not updated.\"\n",
    "assert (policy_optimal.sum(axis=1) == 1).all(), 'Probabilities of all actions must sum to one.'"
   ]
  },
  {
   "cell_type": "markdown",
   "metadata": {
    "deletable": false,
    "editable": false,
    "nbgrader": {
     "cell_type": "markdown",
     "checksum": "5aade0b8ee7e4937585dcca40898e87f",
     "grade": false,
     "grade_id": "cell-f0de50be58a0ab5e",
     "locked": true,
     "schema_version": 3,
     "solution": false,
     "task": false
    },
    "tags": []
   },
   "source": [
    "### Run DP Value Iteration\n",
    "\n",
    "Finally, let's compute the optimal policy by using value iteration. Obviously the result should be very similar to the policy interation algorithm."
   ]
  },
  {
   "cell_type": "code",
   "execution_count": 26,
   "metadata": {
    "deletable": false,
    "editable": false,
    "nbgrader": {
     "cell_type": "code",
     "checksum": "27ed43f529dba5e25639941b70a12f4b",
     "grade": false,
     "grade_id": "cell-5d0028ed65493ae2",
     "locked": true,
     "schema_version": 3,
     "solution": false,
     "task": false
    }
   },
   "outputs": [
    {
     "data": {
      "image/png": "[encoded data removed]",
      "text/plain": [
       "<Figure size 432x288 with 2 Axes>"
      ]
     },
     "metadata": {
      "needs_background": "light"
     },
     "output_type": "display_data"
    }
   ],
   "source": [
    "# let's redo this with value iteration...\n",
    "opt_policy, opt_value_function = value_iteration(lake_env, gamma=0.99)\n",
    "\n",
    "fig, axes = plt.subplots(ncols=2)\n",
    "plot_policy(axes[0], lake_env, opt_policy)\n",
    "plot_value_function(axes[1], lake_env, opt_value_function)\n",
    "plt.show()"
   ]
  },
  {
   "cell_type": "code",
   "execution_count": 27,
   "metadata": {},
   "outputs": [
    {
     "data": {
      "image/png": "[encoded data removed]",
      "text/plain": [
       "<Figure size 432x288 with 2 Axes>"
      ]
     },
     "metadata": {
      "needs_background": "light"
     },
     "output_type": "display_data"
    }
   ],
   "source": [
    "# let's redo this with value iteration...\n",
    "opt_policy, opt_value_function = value_iteration(lake_env, gamma=0.99)\n",
    "\n",
    "fig, axes = plt.subplots(ncols=2)\n",
    "plot_policy(axes[0], lake_env, opt_policy)\n",
    "plot_value_function(axes[1], lake_env, opt_value_function)\n",
    "plt.show()"
   ]
  },
  {
   "cell_type": "markdown",
   "metadata": {
    "deletable": false,
    "editable": false,
    "nbgrader": {
     "cell_type": "markdown",
     "checksum": "e182f45110bd7f189303c23da89e76a3",
     "grade": false,
     "grade_id": "cell-921f189c436542dd",
     "locked": true,
     "schema_version": 3,
     "solution": false,
     "task": false
    }
   },
   "source": [
    "## (5) Comprehension Exercise\n",
    "\n",
    "Answer the following questions:\n",
    "\n",
    "- Why does the optimal policy at the state in row 1, column 2 point to the left instead of up? Keep your answer short!"
   ]
  },
  {
   "cell_type": "markdown",
   "metadata": {
    "deletable": false,
    "nbgrader": {
     "cell_type": "markdown",
     "checksum": "d84d0040b73416ed558afa3685ce5fe3",
     "grade": true,
     "grade_id": "cell-8e3083b31d129284",
     "locked": false,
     "points": 2,
     "schema_version": 3,
     "solution": true,
     "task": false
    }
   },
   "source": [
    "Because in the case of pointing to the left there is 0 probability to end up in fisherman state. \n",
    "Pointing up means, that there is only 0.8 probability to go up, and probability of ending up in fisherman state is 0.1.\n",
    "\n",
    "Conclusion: pointing to the left is more safe"
   ]
  },
  {
   "cell_type": "markdown",
   "metadata": {
    "deletable": false,
    "editable": false,
    "nbgrader": {
     "cell_type": "markdown",
     "checksum": "46e2e8062e9e8a550c54eca04c50e73a",
     "grade": false,
     "grade_id": "cell-4067d7639eb1f6b9",
     "locked": true,
     "schema_version": 3,
     "solution": false,
     "task": false
    }
   },
   "source": [
    "- Why is the expected future return not equal to 1 for every state?"
   ]
  },
  {
   "cell_type": "markdown",
   "metadata": {
    "deletable": false,
    "nbgrader": {
     "cell_type": "markdown",
     "checksum": "170799ea734a03642fd24ca29c96f019",
     "grade": true,
     "grade_id": "cell-dd715eedeaafe496",
     "locked": false,
     "points": 2,
     "schema_version": 3,
     "solution": true,
     "task": false
    }
   },
   "source": [
    "Because of the gamma parameter(discount factor). Future rewards are multiplied by the discount factor, which in our case is equal to $0.99^k$. Plus dynamics are not deterministic: there is only 80% chance to go into the chosen direction. Plus only final steps have rewards either +1 or -1, others have 0 reward. All these factors make expectet future rewards not equal to 1 in all states"
   ]
  },
  {
   "cell_type": "markdown",
   "metadata": {
    "deletable": false,
    "editable": false,
    "nbgrader": {
     "cell_type": "markdown",
     "checksum": "02f6f436cf3340b6e1eb8a5e832a9616",
     "grade": false,
     "grade_id": "cell-3645a10dac9ef822",
     "locked": true,
     "schema_version": 3,
     "solution": false,
     "task": false
    }
   },
   "source": [
    "Consider the previous finite MDP. Specify whether the following statements are True or False:\n",
    "1. If we set $\\gamma$ to 1, a policy that moves down in state (2,3), left in state (1,2) and selects each action with a non-zero probability in all other states is optimal.\n",
    "2. If we randomized the starting state and behave according to the optimal policy, the fish could get caught. Assume that we cannot start in a final state.\n",
    "3. If we always stared in (0,0), all non-terminal states would be reachable under the optimal policy."
   ]
  },
  {
   "cell_type": "code",
   "execution_count": 28,
   "metadata": {
    "deletable": false,
    "nbgrader": {
     "cell_type": "code",
     "checksum": "8ad016aeea2022af4fc2aa93963aebdd",
     "grade": false,
     "grade_id": "cell-3ebed5413fc773e2",
     "locked": false,
     "schema_version": 3,
     "solution": true,
     "task": false
    }
   },
   "outputs": [],
   "source": [
    "results = {\n",
    "    '1': True,\n",
    "    '2': False,\n",
    "    '3': False\n",
    "}"
   ]
  },
  {
   "cell_type": "markdown",
   "metadata": {
    "deletable": false,
    "editable": false,
    "nbgrader": {
     "cell_type": "markdown",
     "checksum": "3dd2d085c36076a88be1945741da505f",
     "grade": false,
     "grade_id": "cell-9f730947216561e4",
     "locked": true,
     "schema_version": 3,
     "solution": false,
     "task": false
    }
   },
   "source": [
    "Specify whether the following statements are True or False **for MDPs in gerneral**:\n",
    "1. There is exactly one optimal policy.\n",
    "2. Adding a constant value to all rewards will not change the optimal policy in continuous tasks.\n",
    "3. Adding a constant value to all rewards will not change the optimal policy in episodic tasks.\n",
    "4. There can be more than one optimal value function.\n",
    "5. $q_*(s, a)$ gives the value of taking the optimal action $a$ in state $s$ and following the optimal policy thereafter."
   ]
  },
  {
   "cell_type": "code",
   "execution_count": 29,
   "metadata": {
    "deletable": false,
    "nbgrader": {
     "cell_type": "code",
     "checksum": "bb498506da0fb34aae05ebc614b2e3a5",
     "grade": false,
     "grade_id": "cell-cb63c46ad1591ee3",
     "locked": false,
     "schema_version": 3,
     "solution": true,
     "task": false
    }
   },
   "outputs": [],
   "source": [
    "results = {\n",
    "    '1': False,\n",
    "    '2': True,\n",
    "    '3': False,\n",
    "    '4': False,\n",
    "    '5': False\n",
    "}\n"
   ]
  }
 ],
 "metadata": {
  "kernelspec": {
   "display_name": "Python 3.9.12 ('base')",
   "language": "python",
   "name": "python3"
  },
  "language_info": {
   "codemirror_mode": {
    "name": "ipython",
    "version": 3
   },
   "file_extension": ".py",
   "mimetype": "text/x-python",
   "name": "python",
   "nbconvert_exporter": "python",
   "pygments_lexer": "ipython3",
   "version": "3.9.12"
  },
  "vscode": {
   "interpreter": {
    "hash": "40d3a090f54c6569ab1632332b64b2c03c39dcf918b08424e98f38b5ae0af88f"
   }
  }
 },
 "nbformat": 4,
 "nbformat_minor": 4
}
