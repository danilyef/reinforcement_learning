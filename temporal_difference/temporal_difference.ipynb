{
 "cells": [
  {
   "attachments": {},
   "cell_type": "markdown",
   "metadata": {
    "deletable": false,
    "editable": false,
    "nbgrader": {
     "cell_type": "markdown",
     "checksum": "2a50cc95adc29a226d7b410a17ddda5f",
     "grade": false,
     "grade_id": "cell-d5fa9982ccbc7083",
     "locked": true,
     "schema_version": 3,
     "solution": false,
     "task": false
    },
    "tags": []
   },
   "source": [
    "# Temporal Difference Learning\n",
    "\n",
    "\n",
    "Plan:\n",
    "\n",
    "- (1) Implement TD(0) (Policy Evaluation) \n",
    "- (2) Implement SARSA (Policy Improvement) \n",
    "- (3) Implement Q-Learning (Policy Improvement) \n",
    "- (4) Implement Expected-SARSA (Policy Improvement) \n",
    "- (5) Questions "
   ]
  },
  {
   "cell_type": "markdown",
   "metadata": {
    "deletable": false,
    "editable": false,
    "nbgrader": {
     "cell_type": "markdown",
     "checksum": "0fc5ca1a3ce73a11b959eb63c07d0895",
     "grade": false,
     "grade_id": "cell-6ed9b441a97cb355",
     "locked": true,
     "schema_version": 3,
     "solution": false,
     "task": false
    }
   },
   "source": [
    "# Temporal Difference Learning\n",
    "We will use the `Cliff` environment as featured in the book. It is designed to illustrate the differences of different temporal difference learning methods. You will need to implement evaluation and control algorithms."
   ]
  },
  {
   "attachments": {},
   "cell_type": "markdown",
   "metadata": {
    "deletable": false,
    "editable": false,
    "nbgrader": {
     "cell_type": "markdown",
     "checksum": "aacf50e328c742685a941a48cdd62c48",
     "grade": false,
     "grade_id": "cell-382779952d03e068",
     "locked": true,
     "schema_version": 3,
     "solution": false,
     "task": false
    }
   },
   "source": [
    "## (1) TD(0) policy evaluation "
   ]
  },
  {
   "attachments": {},
   "cell_type": "markdown",
   "metadata": {
    "deletable": false,
    "editable": false,
    "nbgrader": {
     "cell_type": "markdown",
     "checksum": "9c3c1d54dfaf1b7d81ca44bc6d631619",
     "grade": false,
     "grade_id": "cell-d8b26a07a6a39b1d",
     "locked": true,
     "schema_version": 3,
     "solution": false,
     "task": false
    }
   },
   "source": [
    "The directory `gym_gridworlds` should be a subdirectory of the folder that you started the Jupyter notebook server in."
   ]
  },
  {
   "cell_type": "code",
   "execution_count": 1,
   "metadata": {
    "deletable": false,
    "editable": false,
    "nbgrader": {
     "cell_type": "code",
     "checksum": "32bed67086ff1061685e40d02391f767",
     "grade": false,
     "grade_id": "cell-fdf3bb8d95c11f3f",
     "locked": true,
     "schema_version": 3,
     "solution": false,
     "task": false
    }
   },
   "outputs": [],
   "source": [
    "import numpy as np\n",
    "import matplotlib.pyplot as plt\n",
    "import gym\n",
    "from collections import defaultdict\n",
    "import gym_gridworlds as gg\n",
    "from typing import List, Tuple, Dict\n",
    "import testing\n",
    "np.set_printoptions(linewidth=200)"
   ]
  },
  {
   "cell_type": "code",
   "execution_count": 2,
   "metadata": {
    "deletable": false,
    "nbgrader": {
     "cell_type": "code",
     "checksum": "d2e74c1e9a884f93d7b9110d775897a1",
     "grade": false,
     "grade_id": "cell-af976b8ea7c37ccc",
     "locked": false,
     "schema_version": 3,
     "solution": true,
     "task": false
    }
   },
   "outputs": [],
   "source": [
    "def td_policy_evaluation(rng: np.random._generator.Generator, \n",
    "                        env: gym.Env, \n",
    "                        policy: np.ndarray, \n",
    "                        num_episodes: int, \n",
    "                        gamma: float=0.999, \n",
    "                        alpha: float=0.1\n",
    "    ) -> Dict[int, float]:\n",
    "    \"\"\"\n",
    "    TD(0) evaluation algorithm, which calculates the value function\n",
    "    for a given policy.\n",
    "    \n",
    "    Args:\n",
    "        rng: random number generator\n",
    "        env: the openai gym environment\n",
    "        policy: the policy to be evaluated\n",
    "        num_episodes: number of episodes to sample\n",
    "        gamma: the discount factor\n",
    "        alpha: step size\n",
    "    \n",
    "    Returns:\n",
    "        the value function associated with 'policy'\n",
    "    \"\"\"\n",
    "    V = defaultdict(lambda: 0)\n",
    "    actions = np.arange(env.action_space.n)\n",
    "    for si in range(1, num_episodes + 1):\n",
    "        state = env.reset()\n",
    "        done = False\n",
    "\n",
    "        while not done:\n",
    "            action = rng.choice(actions, p=policy[state])\n",
    "            new_state,reward,done,_ = env.step(action = action)\n",
    "            V[state] = V[state] + alpha * (reward + gamma * V[new_state] - V[state])\n",
    "            state = new_state\n",
    "\n",
    "    return V\n",
    "\n"
   ]
  },
  {
   "cell_type": "code",
   "execution_count": 3,
   "metadata": {
    "deletable": false,
    "editable": false,
    "nbgrader": {
     "cell_type": "code",
     "checksum": "fbc76d1e3f3bf89168ff1d73da75cb9e",
     "grade": true,
     "grade_id": "cell-3403fd901f359ee8",
     "locked": true,
     "points": 3,
     "schema_version": 3,
     "solution": false,
     "task": false
    }
   },
   "outputs": [],
   "source": [
    "# let's create an environment\n",
    "cliff_env = gym.make('Cliff-v0')\n",
    "\n",
    "num_episodes = 1\n",
    "alpha = 0.9\n",
    "gamma = 0.999\n",
    "epsilon = 0.1\n",
    "\n",
    "# let's set a random see\n",
    "seed_sequence = np.random.SeedSequence(1234)\n",
    "rng = np.random.default_rng(seed_sequence)\n",
    "\n",
    "# let's create the example policy\n",
    "policy = gg.random_policy(cliff_env)\n",
    "\n",
    "# and now let's see how good the example policy really is\n",
    "policy_value = td_policy_evaluation(rng, \n",
    "                                    cliff_env, \n",
    "                                    policy, \n",
    "                                    num_episodes,\n",
    "                                    gamma,\n",
    "                                    alpha)\n",
    "\n",
    "assert len(policy_value) > 0, \"Your implementation generates an empty value function\"\n",
    "for state, val in policy_value.items():\n",
    "    assert testing.is_type(state, [np.int64, int])\n",
    "    assert testing.is_type(val, [float, int])\n"
   ]
  },
  {
   "cell_type": "markdown",
   "metadata": {
    "deletable": false,
    "editable": false,
    "nbgrader": {
     "cell_type": "markdown",
     "checksum": "6659d12eed02a35403a4313441aa859e",
     "grade": false,
     "grade_id": "cell-a3c04c4616845e37",
     "locked": true,
     "schema_version": 3,
     "solution": false,
     "task": false
    }
   },
   "source": [
    "### Now let's try TD(0) to evaluate the random policy"
   ]
  },
  {
   "cell_type": "code",
   "execution_count": 4,
   "metadata": {
    "deletable": false,
    "editable": false,
    "nbgrader": {
     "cell_type": "code",
     "checksum": "d3d6c763e7b5789e91b8d0bc9bd394c3",
     "grade": false,
     "grade_id": "cell-177de86c7f2a3f57",
     "locked": true,
     "schema_version": 3,
     "solution": false,
     "task": false
    }
   },
   "outputs": [
    {
     "name": "stdout",
     "output_type": "stream",
     "text": [
      "\n",
      "FFFFFFFFFFFF\n",
      "FFFFFFFFFFFF\n",
      "FFFFFFFFFFFF\n",
      "\u001b[41mS\u001b[0mHHHHHHHHHHG\n"
     ]
    },
    {
     "data": {
      "image/png": "[encoded data removed]",
      "text/plain": [
       "<Figure size 432x288 with 1 Axes>"
      ]
     },
     "metadata": {
      "needs_background": "light"
     },
     "output_type": "display_data"
    },
    {
     "data": {
      "image/png": "[encoded data removed]",
      "text/plain": [
       "<Figure size 432x288 with 2 Axes>"
      ]
     },
     "metadata": {
      "needs_background": "light"
     },
     "output_type": "display_data"
    }
   ],
   "source": [
    "cliff_env = gym.make('Cliff-v0')\n",
    "cliff_env.render()\n",
    "\n",
    "num_episodes = 1000\n",
    "alpha = 0.9\n",
    "gamma = 0.999\n",
    "epsilon = 0.1\n",
    "\n",
    "seed_sequence = np.random.SeedSequence(1234)\n",
    "rng = np.random.default_rng(seed_sequence)\n",
    "\n",
    "policy = gg.random_policy(cliff_env)\n",
    "V = td_policy_evaluation(rng, \n",
    "                         cliff_env, \n",
    "                         policy, \n",
    "                         num_episodes=num_episodes, \n",
    "                         gamma=gamma, \n",
    "                         alpha=alpha)\n",
    "\n",
    "gg.plot_policy(cliff_env, policy)\n",
    "gg.plot_value_function(cliff_env, V, vmax=-1)"
   ]
  },
  {
   "cell_type": "code",
   "execution_count": 5,
   "metadata": {
    "deletable": false,
    "editable": false,
    "nbgrader": {
     "cell_type": "code",
     "checksum": "b923401de958b62a384b17880b967f70",
     "grade": false,
     "grade_id": "cell-96daf2ecc3b85030",
     "locked": true,
     "schema_version": 3,
     "solution": false,
     "task": false
    }
   },
   "outputs": [],
   "source": [
    "def eps_greedy_from_qs(rng: np.random._generator.Generator, \n",
    "                       qs: np.ndarray, \n",
    "                       epsilon: float):\n",
    "    \"\"\"\n",
    "    a helper functions that define epsilon greedy policies \n",
    "    from Q values. this function breaks ties uniformly at \n",
    "    random (if qs are all equal) you should use it where appropriate!\n",
    "    \n",
    "    Args:\n",
    "        rng: random number generator\n",
    "        qs: an action-value function\n",
    "        epsilon: probability of selecting a random action\n",
    "    \n",
    "    Returns:\n",
    "        policy\n",
    "    \n",
    "    \"\"\"\n",
    "    # find all currently optimal actions\n",
    "    optimal_actions = np.argwhere(qs == np.amax(qs))\n",
    "    \n",
    "    # choose any of the optimal actions uniformly at random\n",
    "    optimal_action = rng.choice(optimal_actions)\n",
    "    \n",
    "    # build an eps-soft policy:\n",
    "    \n",
    "    # compute eps/A(s)\n",
    "    eps_p = epsilon / len(qs)\n",
    "    \n",
    "    # fill empty array of the same shape as 'qs' with eps/|A(s)|\n",
    "    ps = np.full_like(qs, eps_p)\n",
    "    \n",
    "    # assign most probability mass to optimal action\n",
    "    ps[optimal_action] += 1 - epsilon\n",
    "    return ps"
   ]
  },
  {
   "attachments": {},
   "cell_type": "markdown",
   "metadata": {
    "deletable": false,
    "editable": false,
    "nbgrader": {
     "cell_type": "markdown",
     "checksum": "106cc76afcd95096e36ef0c6caf8f9e8",
     "grade": false,
     "grade_id": "cell-9cb76439a26faa7f",
     "locked": true,
     "schema_version": 3,
     "solution": false,
     "task": false
    }
   },
   "source": [
    "## (2) SARSA "
   ]
  },
  {
   "cell_type": "code",
   "execution_count": 6,
   "metadata": {
    "deletable": false,
    "nbgrader": {
     "cell_type": "code",
     "checksum": "bc429694dfdf02db579e6c51d6c2b23c",
     "grade": false,
     "grade_id": "cell-26d1c5ec31776ea2",
     "locked": false,
     "schema_version": 3,
     "solution": true,
     "task": false
    }
   },
   "outputs": [],
   "source": [
    "def sarsa(rng: np.random._generator.Generator, \n",
    "                        env: gym.Env, \n",
    "                        num_episodes: int, \n",
    "                        gamma: float=0.999, \n",
    "                        alpha: float=0.1,\n",
    "                        epsilon: float=0.1\n",
    "    ) -> Dict[int, float]:\n",
    "    \"\"\"\n",
    "    SARSA algorithm, which calculates the value function\n",
    "    and a policy.\n",
    "    \n",
    "    Args:\n",
    "        rng: random number generator\n",
    "        env: the openai gym environment\n",
    "        num_episodes: number of episodes to sample\n",
    "        gamma: the discount factor\n",
    "        alpha: step size\n",
    "        epsilon: probability of random action\n",
    "    \n",
    "    Returns:\n",
    "        the policy \n",
    "        the state-action value function\n",
    "    \"\"\"\n",
    "    \n",
    "    # this is how we store the state-action value function\n",
    "    Q = defaultdict(lambda: np.zeros(env.action_space.n))\n",
    "    # this is simply a helper array that helps us sample from available actions, given a policy\n",
    "    actions = np.arange(env.action_space.n)\n",
    "    \n",
    "    for si in range(1, num_episodes + 1):\n",
    "        if si % 10000 == 0:\n",
    "            print('{}/{} Episodes'.format(si, num_episodes))\n",
    "\n",
    "        state = env.reset()\n",
    "\n",
    "        # a = ? -> a sample from an eps-greedy policy, \n",
    "        # based on the current Q values\n",
    "        # you may want use the helper function defined above, to do this conveniently\n",
    "        \n",
    "        greedy_policy = eps_greedy_from_qs(rng,Q[state],epsilon)\n",
    "        action = rng.choice(actions, p=greedy_policy)\n",
    "        \n",
    "        done = False\n",
    "        while not done:\n",
    "            new_state,reward,done,_ = env.step(action = action)\n",
    "\n",
    "            greedy_policy = eps_greedy_from_qs(rng,Q[new_state],epsilon)\n",
    "            new_action =  rng.choice(actions, p=greedy_policy)\n",
    "            \n",
    "            Q[state][action] = Q[state][action] + alpha * (reward + gamma * Q[new_state][new_action] - Q[state][action])\n",
    "\n",
    "            state = new_state\n",
    "            action = new_action\n",
    "        \n",
    "\n",
    "\n",
    "\n",
    "    # after all the episodes, there might be states missing from 'policy', as exploration\n",
    "    # could have missed some states. so if we have not encountered a state yet, behave randomly\n",
    "    policy = defaultdict(lambda: np.ones(env.action_space.n) / env.action_space.n)\n",
    "    \n",
    "    # make a deterministic policy, based on the Q values\n",
    "    for s, qs in Q.items():\n",
    "        policy[s] = np.eye(env.action_space.n)[np.argmax(qs)]\n",
    "    return policy, Q\n",
    "\n",
    "\n"
   ]
  },
  {
   "cell_type": "code",
   "execution_count": 7,
   "metadata": {
    "deletable": false,
    "editable": false,
    "nbgrader": {
     "cell_type": "code",
     "checksum": "82fe7a11290439f5d6aded2e8ba0fdf3",
     "grade": true,
     "grade_id": "cell-4421afa7a80091f0",
     "locked": true,
     "points": 5,
     "schema_version": 3,
     "solution": false,
     "task": false
    }
   },
   "outputs": [],
   "source": [
    "# let's create an environment\n",
    "cliff_env = gym.make('Cliff-v0')\n",
    "\n",
    "num_episodes = 1\n",
    "alpha = 0.1\n",
    "gamma = 0.999\n",
    "epsilon = 0.5\n",
    "\n",
    "# let's set a random see\n",
    "seed_sequence = np.random.SeedSequence(1234)\n",
    "rng = np.random.default_rng(seed_sequence)\n",
    "\n",
    "# and now let's see how good the example policy really is\n",
    "policy, Q = sarsa(rng, \n",
    "                cliff_env, \n",
    "                num_episodes,\n",
    "                gamma,\n",
    "                alpha, \n",
    "                 epsilon)\n",
    "\n",
    "assert len(Q) > 0, \"Your implementation generates an empty value function\"\n",
    "for state, val in Q.items():\n",
    "    assert testing.is_type(state, [np.int64, int])\n",
    "    assert testing.is_type(val, np.ndarray)\n"
   ]
  },
  {
   "cell_type": "markdown",
   "metadata": {
    "deletable": false,
    "editable": false,
    "nbgrader": {
     "cell_type": "markdown",
     "checksum": "0128cc12ddcc9a3e7737c438ef5aec4c",
     "grade": false,
     "grade_id": "cell-e1d83f0b40a740e0",
     "locked": true,
     "schema_version": 3,
     "solution": false,
     "task": false
    }
   },
   "source": [
    "### Setup and Run"
   ]
  },
  {
   "cell_type": "code",
   "execution_count": 8,
   "metadata": {
    "deletable": false,
    "editable": false,
    "nbgrader": {
     "cell_type": "code",
     "checksum": "e5f393fd2a39547a6d85e957e9e72cf1",
     "grade": false,
     "grade_id": "cell-6aa5357cdaecffdb",
     "locked": true,
     "schema_version": 3,
     "solution": false,
     "task": false
    }
   },
   "outputs": [
    {
     "name": "stdout",
     "output_type": "stream",
     "text": [
      "\n",
      "\n",
      "------------------------------\n",
      "SARSA\n",
      "num_episodes 5000\n",
      "alpha 0.1\n",
      "gamma 0.999\n"
     ]
    },
    {
     "data": {
      "image/png": "[encoded data removed]",
      "text/plain": [
       "<Figure size 432x288 with 1 Axes>"
      ]
     },
     "metadata": {
      "needs_background": "light"
     },
     "output_type": "display_data"
    },
    {
     "data": {
      "image/png": "[encoded data removed]",
      "text/plain": [
       "<Figure size 432x288 with 2 Axes>"
      ]
     },
     "metadata": {
      "needs_background": "light"
     },
     "output_type": "display_data"
    }
   ],
   "source": [
    "# let's create an environment\n",
    "cliff_env = gym.make('Cliff-v0')\n",
    "\n",
    "# SARSA needs many episodes\n",
    "num_episodes = 5000\n",
    "# SARSA needs a small step size\n",
    "alpha = 0.1\n",
    "gamma = 0.999\n",
    "# SARSA needs to explore a lot with this small amount of episodes\n",
    "# if this is set too low, we'll end up with policies that will\n",
    "# produce infinite loops, once we try to evaluate the policy with\n",
    "# TD policy evaluation!\n",
    "# (i.e. policies that loop between two or more states)\n",
    "epsilon = 0.1\n",
    "\n",
    "# let's set a random see\n",
    "seed_sequence = np.random.SeedSequence(1234)\n",
    "rng = np.random.default_rng(seed_sequence)\n",
    "\n",
    "epsilon = 0.5\n",
    "\n",
    "print('\\n\\n' + '-' * 30)\n",
    "print('SARSA')\n",
    "print('num_episodes', num_episodes)\n",
    "print('alpha', alpha)\n",
    "print('gamma', gamma)\n",
    "policy, Q = sarsa(rng, \n",
    "                  cliff_env, \n",
    "                  num_episodes, \n",
    "                  gamma=gamma, \n",
    "                  alpha=alpha, \n",
    "                  epsilon=epsilon)\n",
    "\n",
    "# V = td_policy_evaluation(rng, cliff_env, policy, num_episodes, gamma=gamma, alpha=alpha)\n",
    "V = defaultdict(lambda: 0)\n",
    "for s, qs in Q.items():\n",
    "    V[s] = np.max(qs)\n",
    "\n",
    "gg.plot_policy(cliff_env, policy)\n",
    "gg.plot_value_function(cliff_env, V, vmax=-1)"
   ]
  },
  {
   "attachments": {},
   "cell_type": "markdown",
   "metadata": {
    "deletable": false,
    "editable": false,
    "nbgrader": {
     "cell_type": "markdown",
     "checksum": "90f241a5a29bdca2bf6aba3e97c8cc1d",
     "grade": false,
     "grade_id": "cell-982458c3cad0dae7",
     "locked": true,
     "schema_version": 3,
     "solution": false,
     "task": false
    }
   },
   "source": [
    "## (3) Q-Learning "
   ]
  },
  {
   "cell_type": "code",
   "execution_count": 9,
   "metadata": {
    "deletable": false,
    "nbgrader": {
     "cell_type": "code",
     "checksum": "30f82d058b045d3b9a4139f416dd5382",
     "grade": false,
     "grade_id": "cell-ee01898f43d5898d",
     "locked": false,
     "schema_version": 3,
     "solution": true,
     "task": false
    }
   },
   "outputs": [],
   "source": [
    "def q_learning(rng: np.random._generator.Generator, \n",
    "                        env: gym.Env, \n",
    "                        num_episodes: int, \n",
    "                        gamma: float=0.999, \n",
    "                        alpha: float=0.1,\n",
    "                        epsilon: float=0.1\n",
    "    ) -> Dict[int, float]:\n",
    "    \"\"\"\n",
    "    Q-LEARNING algorithm, which calculates the value function\n",
    "    and a policy.\n",
    "    \n",
    "    Args:\n",
    "        rng: random number generator\n",
    "        env: the openai gym environment\n",
    "        num_episodes: number of episodes to sample\n",
    "        gamma: the discount factor\n",
    "        alpha: step size\n",
    "        epsilon: probability of random action\n",
    "    \n",
    "    Returns:\n",
    "        the policy \n",
    "        the state-action value function\n",
    "    \"\"\"\n",
    "\n",
    "    # this is how we store the state-action value function\n",
    "    Q = defaultdict(lambda: np.zeros(env.action_space.n))\n",
    "    # this is simply a helper array that helps us sample from available actions, given a policy\n",
    "    actions = np.arange(env.action_space.n)\n",
    "    \n",
    "    for si in range(1, num_episodes + 1):\n",
    "        if si % 10000 == 0:\n",
    "            print('{}/{} Episodes'.format(si, num_episodes))\n",
    "\n",
    "        state = env.reset()\n",
    "        done = False\n",
    "        while not done:\n",
    "            greedy_policy = eps_greedy_from_qs(rng,Q[state],epsilon)\n",
    "            action =  rng.choice(actions, p=greedy_policy)\n",
    "\n",
    "            new_state,reward,done,_ = env.step(action = action)\n",
    "            \n",
    "            Q[state][action] = Q[state][action] + alpha * (reward + gamma * np.max(Q[new_state]) - Q[state][action])\n",
    "\n",
    "            state = new_state\n",
    "        \n",
    "\n",
    "\n",
    "\n",
    "    # after all the episodes, there might be states missing from 'policy', as exploration\n",
    "    # could have missed some states. so if we have not encountered a state yet, behave randomly\n",
    "    policy = defaultdict(lambda: np.ones(env.action_space.n) / env.action_space.n)\n",
    "    \n",
    "    # make a deterministic policy, based on the Q values\n",
    "    for s, qs in Q.items():\n",
    "        policy[s] = np.eye(env.action_space.n)[np.argmax(qs)]\n",
    "    return policy, Q"
   ]
  },
  {
   "cell_type": "code",
   "execution_count": 10,
   "metadata": {
    "deletable": false,
    "editable": false,
    "nbgrader": {
     "cell_type": "code",
     "checksum": "8de9fb74be2b0b95c35bc122aaf04087",
     "grade": true,
     "grade_id": "cell-927a944cfc469fd6",
     "locked": true,
     "points": 5,
     "schema_version": 3,
     "solution": false,
     "task": false
    }
   },
   "outputs": [],
   "source": [
    "# let's create an environment\n",
    "cliff_env = gym.make('Cliff-v0')\n",
    "\n",
    "num_episodes = 1\n",
    "alpha = 0.9\n",
    "gamma = 0.999\n",
    "epsilon = 0.1\n",
    "\n",
    "# let's set a random see\n",
    "seed_sequence = np.random.SeedSequence(1234)\n",
    "rng = np.random.default_rng(seed_sequence)\n",
    "\n",
    "# and now let's see how good the example policy really is\n",
    "policy, Q = q_learning(rng, \n",
    "                        cliff_env, \n",
    "                        num_episodes,\n",
    "                        gamma,\n",
    "                        alpha, \n",
    "                        epsilon)\n",
    "\n",
    "assert len(Q) > 0, \"Your implementation generates an empty value function\"\n",
    "for state, val in Q.items():\n",
    "    assert testing.is_type(state, [np.int64, int])\n",
    "    assert testing.is_type(val, np.ndarray)\n"
   ]
  },
  {
   "cell_type": "markdown",
   "metadata": {},
   "source": [
    "### Setup and Run"
   ]
  },
  {
   "cell_type": "code",
   "execution_count": 11,
   "metadata": {
    "deletable": false,
    "editable": false,
    "nbgrader": {
     "cell_type": "code",
     "checksum": "736f55b80de3c33aa4fca39460f717d7",
     "grade": false,
     "grade_id": "cell-f49c076fdebbcbab",
     "locked": true,
     "schema_version": 3,
     "solution": false,
     "task": false
    }
   },
   "outputs": [
    {
     "name": "stdout",
     "output_type": "stream",
     "text": [
      "\n",
      "FFFFFFFFFFFF\n",
      "FFFFFFFFFFFF\n",
      "FFFFFFFFFFFF\n",
      "\u001b[41mS\u001b[0mHHHHHHHHHHG\n",
      "\n",
      "\n",
      "------------------------------\n",
      "Q-Learning\n",
      "num_episodes 1000\n",
      "alpha 0.9\n",
      "gamma 0.999\n"
     ]
    },
    {
     "data": {
      "image/png": "[encoded data removed]",
      "text/plain": [
       "<Figure size 432x288 with 1 Axes>"
      ]
     },
     "metadata": {
      "needs_background": "light"
     },
     "output_type": "display_data"
    },
    {
     "data": {
      "image/png": "[encoded data removed]",
      "text/plain": [
       "<Figure size 432x288 with 2 Axes>"
      ]
     },
     "metadata": {
      "needs_background": "light"
     },
     "output_type": "display_data"
    }
   ],
   "source": [
    "cliff_env = gym.make('Cliff-v0')\n",
    "cliff_env.render()\n",
    "\n",
    "num_episodes = 1000\n",
    "alpha = 0.9\n",
    "gamma = 0.999\n",
    "epsilon = 0.1\n",
    "\n",
    "# let's set a random seed\n",
    "seed_sequence = np.random.SeedSequence(1234)\n",
    "rng = np.random.default_rng(seed_sequence)\n",
    "\n",
    "print('\\n\\n' + '-' * 30)\n",
    "print('Q-Learning')\n",
    "print('num_episodes', num_episodes)\n",
    "print('alpha', alpha)\n",
    "print('gamma', gamma)\n",
    "\n",
    "policy, Q = q_learning(rng,\n",
    "                       cliff_env, \n",
    "                       num_episodes, \n",
    "                       gamma=gamma, \n",
    "                       alpha=alpha, \n",
    "                       epsilon=epsilon)\n",
    "# V = td_policy_evaluation(rng, cliff_env, policy, num_episodes, gamma=gamma, alpha=alpha)\n",
    "V = defaultdict(lambda: 0)\n",
    "for s, qs in Q.items():\n",
    "    V[s] = np.max(qs)\n",
    "\n",
    "gg.plot_policy(cliff_env, policy)\n",
    "gg.plot_value_function(cliff_env, V, vmax=-1)"
   ]
  },
  {
   "attachments": {},
   "cell_type": "markdown",
   "metadata": {},
   "source": [
    "## (4) Expected SARSA"
   ]
  },
  {
   "cell_type": "code",
   "execution_count": 12,
   "metadata": {
    "deletable": false,
    "nbgrader": {
     "cell_type": "code",
     "checksum": "92cb2543568386213d06856c9b30e5e0",
     "grade": false,
     "grade_id": "cell-64ff3728d5030da7",
     "locked": false,
     "schema_version": 3,
     "solution": true,
     "task": false
    }
   },
   "outputs": [],
   "source": [
    "def expected_sarsa(rng: np.random._generator.Generator, \n",
    "                        env: gym.Env, \n",
    "                        num_episodes: int, \n",
    "                        gamma: float=0.999, \n",
    "                        alpha: float=0.1,\n",
    "                        epsilon: float=0.1\n",
    "    ) -> Dict[int, float]:\n",
    "    \"\"\"\n",
    "    EXPECTED SARSA algorithm, which calculates the value function\n",
    "    and a policy.\n",
    "    \n",
    "    Args:\n",
    "        rng: random number generators\n",
    "        env: the openai gym environment\n",
    "        num_episodes: number of episodes to sample\n",
    "        gamma: the discount factor\n",
    "        alpha: step size\n",
    "        epsilon: probability of random action\n",
    "    \n",
    "    Returns:\n",
    "        the policy \n",
    "        the state-action value function\n",
    "    \"\"\"\n",
    "    # this is how we store the state-action value function\n",
    "    Q = defaultdict(lambda: np.zeros(env.action_space.n))\n",
    "    # this is simply a helper array that helps us sample from available actions, given a policy\n",
    "    actions = np.arange(env.action_space.n)\n",
    "    \n",
    "    for si in range(1, num_episodes + 1):\n",
    "        if si % 10000 == 0:\n",
    "            print('{}/{} Episodes'.format(si, num_episodes))\n",
    "\n",
    "        state = env.reset()\n",
    "        done = False\n",
    "        while not done:\n",
    "            greedy_policy = eps_greedy_from_qs(rng,Q[state],epsilon)\n",
    "            action =  rng.choice(actions, p=greedy_policy)\n",
    "\n",
    "            new_state,reward,done,_ = env.step(action = action)\n",
    "            \n",
    "            Q[state][action] = Q[state][action] + alpha * (reward + gamma * np.sum(greedy_policy * Q[new_state]) - Q[state][action])\n",
    "\n",
    "            state = new_state\n",
    "        \n",
    "\n",
    "\n",
    "\n",
    "    # after all the episodes, there might be states missing from 'policy', as exploration\n",
    "    # could have missed some states. so if we have not encountered a state yet, behave randomly\n",
    "    policy = defaultdict(lambda: np.ones(env.action_space.n) / env.action_space.n)\n",
    "    \n",
    "    # make a deterministic policy, based on the Q values\n",
    "    for s, qs in Q.items():\n",
    "        policy[s] = np.eye(env.action_space.n)[np.argmax(qs)]\n",
    "    return policy, Q\n",
    "\n",
    "\n",
    "\n"
   ]
  },
  {
   "cell_type": "code",
   "execution_count": 13,
   "metadata": {
    "deletable": false,
    "editable": false,
    "nbgrader": {
     "cell_type": "code",
     "checksum": "774a7d860103070dd77974898032a7f6",
     "grade": true,
     "grade_id": "cell-01806ffeee08188c",
     "locked": true,
     "points": 5,
     "schema_version": 3,
     "solution": false,
     "task": false
    }
   },
   "outputs": [],
   "source": [
    "# let's create an environment\n",
    "cliff_env = gym.make('Cliff-v0')\n",
    "\n",
    "num_episodes = 1\n",
    "alpha = 0.9\n",
    "gamma = 0.999\n",
    "epsilon = 0.1\n",
    "\n",
    "# let's set a random seed\n",
    "seed_sequence = np.random.SeedSequence(1234)\n",
    "rng = np.random.default_rng(seed_sequence)\n",
    "\n",
    "# and now let's see how good the example policy really is\n",
    "policy, Q = expected_sarsa(rng, \n",
    "                            cliff_env, \n",
    "                            num_episodes,\n",
    "                            gamma,\n",
    "                            alpha, \n",
    "                            epsilon)\n",
    "\n",
    "assert len(Q) > 0, \"Your implementation generates an empty value function\"\n",
    "for state, val in Q.items():\n",
    "    assert testing.is_type(state, [np.int64, int])\n",
    "    assert testing.is_type(val, np.ndarray)\n"
   ]
  },
  {
   "cell_type": "markdown",
   "metadata": {
    "deletable": false,
    "editable": false,
    "nbgrader": {
     "cell_type": "markdown",
     "checksum": "b366d9d5e90dcf221025e832c9c5530c",
     "grade": false,
     "grade_id": "cell-0ba523370496b9c1",
     "locked": true,
     "schema_version": 3,
     "solution": false,
     "task": false
    }
   },
   "source": [
    "### Setup and Run"
   ]
  },
  {
   "cell_type": "code",
   "execution_count": 14,
   "metadata": {
    "deletable": false,
    "editable": false,
    "nbgrader": {
     "cell_type": "code",
     "checksum": "f2462c5f9689873620e03f5a4d80108c",
     "grade": false,
     "grade_id": "cell-2d6ffc114b23fdec",
     "locked": true,
     "schema_version": 3,
     "solution": false,
     "task": false
    }
   },
   "outputs": [
    {
     "name": "stdout",
     "output_type": "stream",
     "text": [
      "\n",
      "FFFFFFFFFFFF\n",
      "FFFFFFFFFFFF\n",
      "FFFFFFFFFFFF\n",
      "\u001b[41mS\u001b[0mHHHHHHHHHHG\n",
      "\n",
      "\n",
      "------------------------------\n",
      "Expected SARSA\n",
      "num_episodes 1000\n",
      "alpha 0.9\n",
      "gamma 0.999\n"
     ]
    },
    {
     "data": {
      "image/png": "[encoded data removed]",
      "text/plain": [
       "<Figure size 432x288 with 1 Axes>"
      ]
     },
     "metadata": {
      "needs_background": "light"
     },
     "output_type": "display_data"
    },
    {
     "data": {
      "image/png": "[encoded data removed]",
      "text/plain": [
       "<Figure size 432x288 with 2 Axes>"
      ]
     },
     "metadata": {
      "needs_background": "light"
     },
     "output_type": "display_data"
    }
   ],
   "source": [
    "cliff_env = gym.make('Cliff-v0')\n",
    "cliff_env.render()\n",
    "\n",
    "\n",
    "# aha - this is interesting! expected SARSA needs much less episodes\n",
    "# than SARSA!\n",
    "num_episodes = 1000\n",
    "alpha = 0.9\n",
    "gamma = 0.999\n",
    "epsilon = 0.1\n",
    "\n",
    "# let's set a random seed\n",
    "seed_sequence = np.random.SeedSequence(1234)\n",
    "rng = np.random.default_rng(seed_sequence)\n",
    "\n",
    "### Run Algorithm\n",
    "\n",
    "print('\\n\\n' + '-' * 30)\n",
    "print('Expected SARSA')\n",
    "print('num_episodes', num_episodes)\n",
    "print('alpha', alpha)\n",
    "print('gamma', gamma)\n",
    "policy, Q = expected_sarsa(rng, \n",
    "                           cliff_env, \n",
    "                           num_episodes, \n",
    "                           gamma=gamma, \n",
    "                           alpha=alpha, \n",
    "                           epsilon=epsilon)\n",
    "\n",
    "# V = td_policy_evaluation(cliff_env, policy, num_episodes, gamma=gamma)\n",
    "V = defaultdict(lambda: 0)\n",
    "for s, qs in Q.items():\n",
    "    V[s] = np.max(qs)\n",
    "    \n",
    "gg.plot_policy(cliff_env, policy)\n",
    "gg.plot_value_function(cliff_env, V, vmax=-1)"
   ]
  },
  {
   "attachments": {},
   "cell_type": "markdown",
   "metadata": {
    "deletable": false,
    "editable": false,
    "nbgrader": {
     "cell_type": "markdown",
     "checksum": "80a791933e64c355b6f33a848e221845",
     "grade": false,
     "grade_id": "cell-588f87f70c5d9bae",
     "locked": true,
     "schema_version": 3,
     "solution": false,
     "task": false
    }
   },
   "source": [
    "### Theory questions\n",
    "\n",
    "Answer whether the following statements are true or false (1 point each question)\n",
    "\n",
    "1. TD methods require a model of the environment (i.e., the dynamics and reward function)\n",
    "2. TD(0) uses bootstrapping (i.e., they update the value function using previous estimates of the value function)\n",
    "3. TD and Monte Carlo methods are similar in that they need to wait until the end of an episode to compute updates\n",
    "4. In practice, TD methods converge faster than Monte Carlo methods on stochastic tasks\n",
    "5. An off-policy version of Expected Sarsa is equivalent to Q-learning if the target policy is greedy.\n",
    "6. In the standard Q-learning update ($Q(S,A) \\leftarrow Q(S, A) + \\alpha [R + \\gamma \\max_a Q(S', a) - Q(S, A)]$) taking the maximum over previous estimates of $Q$ **does not** lead to positive bias."
   ]
  },
  {
   "cell_type": "code",
   "execution_count": 15,
   "metadata": {
    "deletable": false,
    "nbgrader": {
     "cell_type": "code",
     "checksum": "4afd12d965ff6b5318b9ffcd3aa96e55",
     "grade": false,
     "grade_id": "cell-b0fcff285468d5b5",
     "locked": false,
     "schema_version": 3,
     "solution": true,
     "task": false
    }
   },
   "outputs": [],
   "source": [
    "# store True or False\n",
    "results = {\n",
    "  \"1\" : False,\n",
    "  \"2\" : True,\n",
    "  \"3\" : False,\n",
    "  \"4\" : True,\n",
    "  \"5\" : True,\n",
    "  \"6\" : False,\n",
    "}\n"
   ]
  },
  {
   "cell_type": "markdown",
   "metadata": {
    "deletable": false,
    "editable": false,
    "nbgrader": {
     "cell_type": "markdown",
     "checksum": "94f1b05a46cdf750aeb3a4629db1f577",
     "grade": false,
     "grade_id": "cell-95366c15bd994af4",
     "locked": true,
     "schema_version": 3,
     "solution": false,
     "task": false
    }
   },
   "source": [
    "Anser the following questions in **one, short sentence**.\n",
    "1. Q-learning is considered an off-policy method. What are the target and behavior policies in Q-Learning? (2 points)"
   ]
  },
  {
   "attachments": {},
   "cell_type": "markdown",
   "metadata": {
    "deletable": false,
    "nbgrader": {
     "cell_type": "markdown",
     "checksum": "3ce2de47cfd8921034835a9909dc8156",
     "grade": true,
     "grade_id": "cell-03bf107c77cb3168",
     "locked": false,
     "points": 2,
     "schema_version": 3,
     "solution": true,
     "task": false
    }
   },
   "source": [
    "Target policy - is a policy we want to improve and Behaviour policy - is a policy y used to generate episodes."
   ]
  },
  {
   "cell_type": "markdown",
   "metadata": {
    "deletable": false,
    "editable": false,
    "nbgrader": {
     "cell_type": "markdown",
     "checksum": "f571ac16a58530a2c9758fed081c6944",
     "grade": false,
     "grade_id": "cell-c024a2ba268539df",
     "locked": true,
     "schema_version": 3,
     "solution": false,
     "task": false
    }
   },
   "source": [
    "2. In the cliff walking example: Why does SARSA return a 'safe' path? You may want to consult the book, Example 6.6 if you are stuck. (2 point)"
   ]
  },
  {
   "attachments": {},
   "cell_type": "markdown",
   "metadata": {
    "deletable": false,
    "nbgrader": {
     "cell_type": "markdown",
     "checksum": "86282c3e16b1132a6ee141e1df159fbb",
     "grade": true,
     "grade_id": "cell-1dea56a4047cf7cc",
     "locked": false,
     "points": 2,
     "schema_version": 3,
     "solution": true,
     "task": false
    }
   },
   "source": [
    "Because SARSA is on policy method, sometimes it chooses not optimal actions for explorations, which could lead to -100 reward (because of fall-down) if you go through optimal path."
   ]
  },
  {
   "cell_type": "markdown",
   "metadata": {
    "deletable": false,
    "editable": false,
    "nbgrader": {
     "cell_type": "markdown",
     "checksum": "60edabd0db760e8562325793819aa746",
     "grade": false,
     "grade_id": "cell-d29b63dd4f971959",
     "locked": true,
     "schema_version": 3,
     "solution": false,
     "task": false
    }
   },
   "source": [
    "Store True/ False into the provided variable.\n",
    "- Which of the above algorithms will result in an optimal policy for the cliff walking environment (assuming an epsilon-greedy policies (target & behaviour) with constant epsilon)?"
   ]
  },
  {
   "cell_type": "code",
   "execution_count": 22,
   "metadata": {
    "deletable": false,
    "nbgrader": {
     "cell_type": "code",
     "checksum": "492c5379eb4402f2595a00287678eb23",
     "grade": false,
     "grade_id": "cell-63e8da53f18fb561",
     "locked": false,
     "schema_version": 3,
     "solution": true,
     "task": false
    }
   },
   "outputs": [],
   "source": [
    "sarsa = False # store true/ false\n",
    "q_learning = True # store true/ false\n",
    "expected_sarsa = False # store true/ false"
   ]
  },
  {
   "cell_type": "code",
   "execution_count": 23,
   "metadata": {
    "deletable": false,
    "editable": false,
    "nbgrader": {
     "cell_type": "code",
     "checksum": "8ed7b042dd765fbdc7ccc2ffe582a029",
     "grade": true,
     "grade_id": "cell-515bb7e6cd7ec2b7",
     "locked": true,
     "points": 1,
     "schema_version": 3,
     "solution": false,
     "task": false
    }
   },
   "outputs": [],
   "source": [
    "assert testing.is_type(sarsa, bool)\n",
    "assert testing.is_type(q_learning, bool)\n",
    "assert testing.is_type(expected_sarsa, bool)"
   ]
  }
 ],
 "metadata": {
  "kernelspec": {
   "display_name": "Python 3.9.12 ('base')",
   "language": "python",
   "name": "python3"
  },
  "language_info": {
   "codemirror_mode": {
    "name": "ipython",
    "version": 3
   },
   "file_extension": ".py",
   "mimetype": "text/x-python",
   "name": "python",
   "nbconvert_exporter": "python",
   "pygments_lexer": "ipython3",
   "version": "3.9.12"
  },
  "vscode": {
   "interpreter": {
    "hash": "40d3a090f54c6569ab1632332b64b2c03c39dcf918b08424e98f38b5ae0af88f"
   }
  }
 },
 "nbformat": 4,
 "nbformat_minor": 4
}
