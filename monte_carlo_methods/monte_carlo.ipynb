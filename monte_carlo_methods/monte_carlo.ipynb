{
 "cells": [
  {
   "cell_type": "markdown",
   "metadata": {
    "deletable": false,
    "editable": false,
    "nbgrader": {
     "cell_type": "markdown",
     "checksum": "5e8daa0c0fd387e82b1c2bdc1c97e1f2",
     "grade": false,
     "grade_id": "cell-3cde71d7f696d69d",
     "locked": true,
     "schema_version": 3,
     "solution": false,
     "task": false
    }
   },
   "source": [
    "# Assignment 3 - Monte Carlo Methods\n",
    "\n",
    "In this notebook we will:\n",
    "\n",
    "- Implement Episode Generation\n",
    "- Implement MC Policy Evaluation \n",
    "- Implement MC On-Policy Control \n",
    "- Analysis of MC on Fishlake "
   ]
  },
  {
   "cell_type": "markdown",
   "metadata": {
    "deletable": false,
    "editable": false,
    "nbgrader": {
     "cell_type": "markdown",
     "checksum": "9bb939a8038e93ad649a845aa153de85",
     "grade": false,
     "grade_id": "cell-e7877d49fb59410d",
     "locked": true,
     "schema_version": 3,
     "solution": false,
     "task": false
    }
   },
   "source": [
    "## Blackjack - A Model-free Environment, Monte Carlo Methods\n",
    "\n",
    "Let us now try Monte Carlo methods on a model-free environment (where it is very hard / impossible to use Dynamic Programming). We will use the game of Black Jack, as presented in the lecture. In general, MC methods are model free, but you might have used some convenience functions\n",
    "\n",
    "<div class=\"alert alert-info\">\n",
    "\n",
    "The following description is adapted from the environment description at https://github.com/openai/gym/blob/master/gym/envs/toy_text/blackjack.py:\n",
    "\n",
    "    Blackjack is a card game where the goal is to obtain cards that sum to as\n",
    "    near as possible to 21 without going over. They're playing against dealer\n",
    "    that follows a fixed strategy.\n",
    "    \n",
    "    Face cards (Jack, Queen, King) have point value 10.\n",
    "    Aces can either count as 11 or 1, and it's called 'usable' at 11.\n",
    "    \n",
    "    This game is played with an infinite deck (drawing with replacement).\n",
    "    The game starts with each (player and dealer) having one face up and one\n",
    "    face down card.\n",
    "    \n",
    "    The player can request additional cards (hit=1) until they decide to stop\n",
    "    (stick=0) or exceed 21 (bust).\n",
    "    \n",
    "    After the player sticks, the dealer reveals their facedown card, and draws\n",
    "    until their sum is 17 or greater.\n",
    "    \n",
    "    If the dealer goes bust the player wins.\n",
    "    If neither player nor dealer busts, the outcome (win, lose, draw) is\n",
    "    decided by whose sum is closer to 21.\n",
    "    \n",
    "    The reward for winning is +1, drawing is 0, and losing is -1.\n",
    "    \n",
    "    The observation is a 3-tuple of:\n",
    "    \n",
    "    the players current sum,\n",
    "    the dealer's one showing card (1-10 where 1 is ace),\n",
    "    and whether or not the player holds a usable ace (0 or 1).\n",
    "    \n",
    "    This environment corresponds to the version of the blackjack problem\n",
    "    described in Example 5.1 in Reinforcement Learning: An Introduction\n",
    "    by Sutton and Barto."
   ]
  },
  {
   "cell_type": "markdown",
   "metadata": {
    "deletable": false,
    "editable": false,
    "nbgrader": {
     "cell_type": "markdown",
     "checksum": "33e5c986e18ac05ed76cba6e57203b13",
     "grade": false,
     "grade_id": "cell-d1deab6c28bfb002",
     "locked": true,
     "schema_version": 3,
     "solution": false,
     "task": false
    }
   },
   "source": [
    "### Preliminaries\n",
    "\n",
    "What follows are the imports, the instantiation of the BlackJack gym-environment, and the introduction of some helper functions. "
   ]
  },
  {
   "cell_type": "code",
   "execution_count": 1,
   "metadata": {
    "deletable": false,
    "editable": false,
    "nbgrader": {
     "cell_type": "code",
     "checksum": "6088f853a0b1ea55595e969f6292f78b",
     "grade": false,
     "grade_id": "cell-b1e63d3f231bc772",
     "locked": true,
     "schema_version": 3,
     "solution": false,
     "task": false
    }
   },
   "outputs": [
    {
     "name": "stdout",
     "output_type": "stream",
     "text": [
      "numpy version: 1.21.5\n",
      "matplotlib version: 3.5.1\n",
      "gym version: 0.21.0\n"
     ]
    }
   ],
   "source": [
    "import matplotlib.pyplot as plt\n",
    "import matplotlib\n",
    "import numpy as np\n",
    "import gym\n",
    "import fishlake_updated as fishlake\n",
    "import blackjack_convenience as blackjack\n",
    "import testing\n",
    "\n",
    "from collections import defaultdict\n",
    "\n",
    "from typing import List, Tuple, Dict\n",
    "\n",
    "np.set_printoptions(precision=4, suppress=True, threshold=200)\n",
    "\n",
    "\n",
    "print('numpy version:',np.__version__)\n",
    "print('matplotlib version:',matplotlib.__version__)\n",
    "print('gym version:',gym.__version__)"
   ]
  },
  {
   "cell_type": "markdown",
   "metadata": {
    "deletable": false,
    "editable": false,
    "nbgrader": {
     "cell_type": "markdown",
     "checksum": "23a862a4fb92fbfc0ef919ba898ca3db",
     "grade": false,
     "grade_id": "cell-6efd009fd5d7dbc4",
     "locked": true,
     "schema_version": 3,
     "solution": false,
     "task": false
    }
   },
   "source": [
    "### Let's play some BlackJack..."
   ]
  },
  {
   "cell_type": "code",
   "execution_count": 2,
   "metadata": {
    "deletable": false,
    "editable": false,
    "nbgrader": {
     "cell_type": "code",
     "checksum": "6ab2835e464616518c43826475fc60cd",
     "grade": false,
     "grade_id": "cell-096ab84d6d3c6524",
     "locked": true,
     "schema_version": 3,
     "solution": false,
     "task": false
    }
   },
   "outputs": [
    {
     "name": "stdout",
     "output_type": "stream",
     "text": [
      "Size of the action space: 2\n",
      "Structure/sizes of the observation space: Tuple(Discrete(32), Discrete(11), Discrete(2))\n",
      "(20, 3, False)\n"
     ]
    }
   ],
   "source": [
    "# the BlackJack environment does **not** give access to the dynamics or the size of the state space\n",
    "# so there is no (easy) way we can use dynamic programming here, we are forced to use model-free methods\n",
    "# the BlackJack environment has no 'render()' function either --- printing the state encoding is enough\n",
    "blackjack_env = gym.make('Blackjack-v1')\n",
    "\n",
    "# we can query the size of the action space:\n",
    "print('Size of the action space:', blackjack_env.action_space.n)\n",
    "\n",
    "# we can (indirectly) query the size of the observation space:\n",
    "print('Structure/sizes of the observation space:', blackjack_env.observation_space)\n",
    "\n",
    "# we can seed the PRNG of the environment for:\n",
    "# - reproducability\n",
    "# - easier debugging\n",
    "# the PRNG is used by the environment to determine the order of the cards\n",
    "blackjack_env.seed(1234)\n",
    "\n",
    "# to reset the environment into its inital state, we can call 'reset()'\n",
    "state = blackjack_env.reset()\n",
    "\n",
    "# let's look at the components of the state encoding of the initial state\n",
    "print(state)"
   ]
  },
  {
   "cell_type": "markdown",
   "metadata": {
    "deletable": false,
    "editable": false,
    "nbgrader": {
     "cell_type": "markdown",
     "checksum": "7b1e90815f67456621c6ef896825ff83",
     "grade": false,
     "grade_id": "cell-a6c84ba73f265b06",
     "locked": true,
     "schema_version": 3,
     "solution": false,
     "task": false
    }
   },
   "source": [
    "### The state encoding desugars into this ..."
   ]
  },
  {
   "cell_type": "code",
   "execution_count": 3,
   "metadata": {
    "deletable": false,
    "editable": false,
    "nbgrader": {
     "cell_type": "code",
     "checksum": "360174e17dc30307169c1bb261ba988c",
     "grade": false,
     "grade_id": "cell-34df0fabd51ce354",
     "locked": true,
     "schema_version": 3,
     "solution": false,
     "task": false
    }
   },
   "outputs": [],
   "source": [
    "(player_score, dealer_score, usable_ace) = state\n",
    "\n",
    "# We define a type annotation for states to give you a hint in the methods below\n",
    "# whenever a function is expected to receive/output these states\n",
    "BlackJackState = Tuple[int, int, bool]"
   ]
  },
  {
   "cell_type": "markdown",
   "metadata": {
    "deletable": false,
    "editable": false,
    "nbgrader": {
     "cell_type": "markdown",
     "checksum": "041b558c27034e9f3d0389279cfd047f",
     "grade": false,
     "grade_id": "cell-48095aaf033dec92",
     "locked": true,
     "schema_version": 3,
     "solution": false,
     "task": false
    }
   },
   "source": [
    "## Defining Default BlackJack Policies\n",
    "\n",
    "What follows are functions that generate basic policies."
   ]
  },
  {
   "cell_type": "code",
   "execution_count": 4,
   "metadata": {
    "deletable": false,
    "editable": false,
    "nbgrader": {
     "cell_type": "code",
     "checksum": "4806c5b4d4b87c8f2d561ed246be9695",
     "grade": false,
     "grade_id": "cell-f4cd573f4f51cc6c",
     "locked": true,
     "schema_version": 3,
     "solution": false,
     "task": false
    }
   },
   "outputs": [],
   "source": [
    "# Just as we did for BlackJack states, instead of having to write Dict[BlackJackState, np.ndarray]\n",
    "# every time, we define a type annotation for policies. These policies will be\n",
    "# dictionaries that use BlackJackStates as keys and the values are np.ndarrays\n",
    "BlackJackPolicy = Dict[BlackJackState, np.ndarray]\n",
    "# we include here the example policy that was also used in class:\n",
    "def create_example_policy() -> BlackJackPolicy:\n",
    "    \"\"\"\n",
    "    Create a policy that sticks if the player score is >= 20 and hits otherwise.\n",
    "    \"\"\"\n",
    "    policy = dict()\n",
    "    for score in range(4, 22):  # 4 - 21\n",
    "        for dealer_score in range(1, 11):  # 1 - 10\n",
    "            for useable_ace in [True, False]:\n",
    "                observation = (score, dealer_score, useable_ace)\n",
    "                if score >= 20:\n",
    "                    # stick\n",
    "                    policy[observation] = np.array([1.0, 0.0])\n",
    "                else:\n",
    "                    # hit\n",
    "                    policy[observation] = np.array([0.0, 1.0])\n",
    "    return policy\n",
    "\n",
    "# and the random policy that chooses an action with equal probability\n",
    "def create_random_policy() -> BlackJackPolicy:\n",
    "    \"\"\"\n",
    "    Create the random policy.\n",
    "    \"\"\"\n",
    "    policy = dict()\n",
    "    \n",
    "    for score in range(4, 22):\n",
    "        for dealer_score in range(1, 11):\n",
    "            for useable_ace in [True, False]:\n",
    "                observation = (score, dealer_score, useable_ace)\n",
    "                policy[observation] = np.array([0.5, 0.5])   \n",
    "    return policy"
   ]
  },
  {
   "cell_type": "markdown",
   "metadata": {
    "deletable": false,
    "editable": false,
    "nbgrader": {
     "cell_type": "markdown",
     "checksum": "cec03e3e3f9c0dc5a3ef45f9831a4a83",
     "grade": false,
     "grade_id": "cell-6efb6cd083041c86",
     "locked": true,
     "schema_version": 3,
     "solution": false,
     "task": false
    }
   },
   "source": [
    "---\n",
    "## (1) Episode Generation \n",
    "Here, you will define a helper function that will generate an episode, given an environment and a policy."
   ]
  },
  {
   "cell_type": "code",
   "execution_count": 5,
   "metadata": {
    "deletable": false,
    "nbgrader": {
     "cell_type": "code",
     "checksum": "1111485c3bcc70bf7d1a7c1bae30707d",
     "grade": false,
     "grade_id": "cell-0284851d3e1a4ca6",
     "locked": false,
     "schema_version": 3,
     "solution": true,
     "task": false
    }
   },
   "outputs": [],
   "source": [
    "def generate_episode(\n",
    "    rng: np.random._generator.Generator, \n",
    "    env: gym.Env, policy: BlackJackPolicy\n",
    ") -> List[Tuple[BlackJackState, int, float]]:\n",
    "    # implement a helper function to generate an episode, given an environment and a policy\n",
    "    # an episode is a list of (state, action, reward) tuples:\n",
    "    # episode = [\n",
    "    #    (state_1, action_1, reward_2),\n",
    "    #    (state_2, action_2, reward_3),\n",
    "    #    ...\n",
    "    #    (state_T-1, action_T-1, reward_T)\n",
    "    # ]\n",
    "    state = env.reset()\n",
    "    actions = np.arange(env.action_space.n, dtype=int)\n",
    "    episode = []\n",
    "    done = False\n",
    "    while not done:\n",
    "        action = rng.choice(actions, p=policy[state])\n",
    "        next_state,reward,done,_ = env.step(action)\n",
    "        episode.append((state,action,reward))\n",
    "        state = next_state\n",
    "\n",
    "    return episode\n",
    "\n",
    "\n"
   ]
  },
  {
   "cell_type": "code",
   "execution_count": 6,
   "metadata": {
    "deletable": false,
    "editable": false,
    "nbgrader": {
     "cell_type": "code",
     "checksum": "e9fd72d9e96886e599c1b06174c193c0",
     "grade": true,
     "grade_id": "cell-9361263d4167476e",
     "locked": true,
     "points": 2,
     "schema_version": 3,
     "solution": false,
     "task": false
    }
   },
   "outputs": [
    {
     "name": "stdout",
     "output_type": "stream",
     "text": [
      "(13, 10, True) 1 0.0\n",
      "(18, 10, True) 1 0.0\n",
      "(18, 10, False) 1 0.0\n",
      "(28, 10, False) 1 -1.0\n"
     ]
    }
   ],
   "source": [
    "rng = np.random.default_rng(1245)\n",
    "blackjack_env.seed(4321)\n",
    "random_policy = create_random_policy()\n",
    "episode = generate_episode(rng, blackjack_env, random_policy)\n",
    "\n",
    "assert len(episode) > 0, \"Your implementation of generates empty episodes\"\n",
    "for s, a, r in episode:\n",
    "    assert testing.is_type(s, tuple)\n",
    "    assert testing.is_type(s[0], [int, np.int64])\n",
    "    assert testing.is_type(s[1], [int, np.int64])\n",
    "    assert testing.is_type(s[2], bool)\n",
    "    assert testing.is_type(a, [int, np.int64])\n",
    "    assert testing.is_type(r, [float, int, np.int64])\n",
    "    \n",
    "    print(s, a, r)"
   ]
  },
  {
   "cell_type": "markdown",
   "metadata": {
    "deletable": false,
    "editable": false,
    "nbgrader": {
     "cell_type": "markdown",
     "checksum": "085f8dd49e53d5a0fb28291f90d3922c",
     "grade": false,
     "grade_id": "cell-478d14ea6076069d",
     "locked": true,
     "schema_version": 3,
     "solution": false,
     "task": false
    },
    "tags": []
   },
   "source": [
    "## (2) Monte Carlo Evaluation \n",
    "Ler's get started: implement the every-visit MC policy evaluation algorithm."
   ]
  },
  {
   "cell_type": "code",
   "execution_count": 8,
   "metadata": {
    "deletable": false,
    "nbgrader": {
     "cell_type": "code",
     "checksum": "6df29ec7a77bf3f550cfa8b2c402cad9",
     "grade": false,
     "grade_id": "cell-3631d74cd41db436",
     "locked": false,
     "schema_version": 3,
     "solution": true,
     "task": false
    }
   },
   "outputs": [],
   "source": [
    "def mc_policy_evaluation(\n",
    "    rng: np.random._generator.Generator, \n",
    "    env: gym.Env, \n",
    "    policy: BlackJackPolicy, \n",
    "    n_episodes: int, \n",
    "    gamma: float=1.0, \n",
    "    n_print_every: int=10 ** 4\n",
    ") -> Dict[BlackJackState, float]:\n",
    "    \"\"\"\n",
    "    Monte Carlo prediction algorithm, which calculates the value function\n",
    "    for a given policy\n",
    "    \n",
    "    Args:\n",
    "        rng: random number generator\n",
    "        env: the openai gym environment\n",
    "        policy: the policy to be evaluated\n",
    "        n_episodes: number of episodes to sample\n",
    "        gamma: the discount factor\n",
    "        n_print_every: print a message after this many episodes\n",
    "    \n",
    "    Returns:\n",
    "        the value function associated with 'policy'\n",
    "    \"\"\"\n",
    "    G_sum = defaultdict(lambda: 0.)\n",
    "    G_count = defaultdict(lambda: 0.)\n",
    "\n",
    "    for i_episode in range(1, n_episodes + 1):\n",
    "        if i_episode % n_print_every == 0:\n",
    "            print(\"\\rEpisode {}/{}.\".format(i_episode, n_episodes))\n",
    "\n",
    "        #generate an episode\n",
    "        episode = generate_episode(rng, env,policy)\n",
    "        \n",
    "        #compute return G, update G_sum, G_count\n",
    "        states,_,rewards = zip(*episode)\n",
    "        discount_factors = np.array([gamma**i for i in range(len(episode)+1)])\n",
    "        for ind,state in enumerate(states):\n",
    "            G_t = float(sum(rewards[ind:]* discount_factors[:-(1+ind)]))\n",
    "            G_sum[state] = G_sum[state] + G_t\n",
    "            G_count[state] = G_count[state] + 1\n",
    "    \n",
    "    V = defaultdict(lambda: 0.)\n",
    "    #compute the value function estimate 'V' from 'G_sum' and 'G_count'\n",
    "    for state,value in G_sum.items():\n",
    "        V[state] = value/G_count[state]\n",
    "\n",
    "    return V\n"
   ]
  },
  {
   "cell_type": "markdown",
   "metadata": {
    "deletable": false,
    "editable": false,
    "nbgrader": {
     "cell_type": "markdown",
     "checksum": "c1fd38a497688199724a564f46285f4d",
     "grade": false,
     "grade_id": "cell-99928f4330e7f3c5",
     "locked": true,
     "schema_version": 3,
     "solution": false,
     "task": false
    }
   },
   "source": [
    "### Run MC Policy Evaluation for Black Jack\n",
    "Okay, let's now run the implemented algorithm on the Black Jack environment."
   ]
  },
  {
   "cell_type": "code",
   "execution_count": 9,
   "metadata": {
    "deletable": false,
    "editable": false,
    "nbgrader": {
     "cell_type": "code",
     "checksum": "caaf2c165b84e89bbf748dccda662e2a",
     "grade": true,
     "grade_id": "cell-87ae4f642760b6df",
     "locked": true,
     "points": 6,
     "schema_version": 3,
     "solution": false,
     "task": false
    }
   },
   "outputs": [
    {
     "name": "stdout",
     "output_type": "stream",
     "text": [
      "Episode 10000/50000.\n",
      "Episode 20000/50000.\n",
      "Episode 30000/50000.\n",
      "Episode 40000/50000.\n",
      "Episode 50000/50000.\n"
     ]
    }
   ],
   "source": [
    "# let's create the example policy\n",
    "example_policy = create_example_policy()\n",
    "n_episodes = 5 * 10 ** 4\n",
    "\n",
    "seed_sequence = np.random.SeedSequence(1234)\n",
    "rng = np.random.default_rng(seed_sequence)\n",
    "\n",
    "# and now let's see how good the example policy really is\n",
    "policy_value = mc_policy_evaluation(rng, blackjack_env, example_policy, n_episodes=n_episodes)\n",
    "\n",
    "assert len(policy_value) > 0, \"Your implementation generates an empty value function\"\n",
    "for state, val in policy_value.items():\n",
    "    assert testing.is_type(state, tuple)\n",
    "    assert testing.is_type(state[0], [int, np.int64])\n",
    "    assert testing.is_type(state[1], [int, np.int64])\n",
    "    assert testing.is_type(state[2], bool)\n",
    "    assert testing.is_type(val, [float, int])\n"
   ]
  },
  {
   "cell_type": "code",
   "execution_count": 10,
   "metadata": {
    "deletable": false,
    "editable": false,
    "nbgrader": {
     "cell_type": "code",
     "checksum": "242b2bbb75ca281a06de83885290ef67",
     "grade": false,
     "grade_id": "cell-799039fd5ab634ed",
     "locked": true,
     "schema_version": 3,
     "solution": false,
     "task": false
    }
   },
   "outputs": [
    {
     "data": {
      "text/plain": [
       "<Figure size 432x288 with 0 Axes>"
      ]
     },
     "metadata": {},
     "output_type": "display_data"
    },
    {
     "data": {
      "image/png": "[encoded data removed]",
      "text/plain": [
       "<Figure size 576x576 with 4 Axes>"
      ]
     },
     "metadata": {
      "needs_background": "light"
     },
     "output_type": "display_data"
    }
   ],
   "source": [
    "blackjack.plot_value_function(policy_value, title=f\"Value Function after {n_episodes} Episodes\")"
   ]
  },
  {
   "cell_type": "markdown",
   "metadata": {
    "deletable": false,
    "editable": false,
    "nbgrader": {
     "cell_type": "markdown",
     "checksum": "71ae7dd88151bc2ad09bf21399bd5fe0",
     "grade": false,
     "grade_id": "cell-b161cbc46cf65c01",
     "locked": true,
     "schema_version": 3,
     "solution": false,
     "task": false
    }
   },
   "source": [
    "## (3) Monte Carlo Control \n",
    "Implement the On-policy every-visit MC control for ε-soft policies algorithm."
   ]
  },
  {
   "cell_type": "code",
   "execution_count": 11,
   "metadata": {
    "deletable": false,
    "nbgrader": {
     "cell_type": "code",
     "checksum": "7e46c790814faf172a0f8e87214c3c09",
     "grade": false,
     "grade_id": "cell-01c329370bf8fcf5",
     "locked": false,
     "schema_version": 3,
     "solution": true,
     "task": false
    }
   },
   "outputs": [],
   "source": [
    "def mc_control_epsilon_greedy(\n",
    "    rng: np.random._generator.Generator, \n",
    "    env: gym.Env, \n",
    "    initial_policy: BlackJackPolicy, \n",
    "    n_episodes: int = 100, \n",
    "    gamma: float = 1.0, \n",
    "    epsilon: float = 0.1, \n",
    "    n_print_every: int = 10 ** 4\n",
    ") -> Tuple[BlackJackPolicy, Dict[BlackJackState, np.ndarray]]:\n",
    "    \"\"\"\n",
    "    On-policy every-visit MC control for ε-soft policies algorithm\n",
    "    Computes an optimal epsilon-greedy policy.\n",
    "    \n",
    "    Args:\n",
    "        rng: Random number generator\n",
    "        env: the openai gym environment\n",
    "        initial_policy: the inital policy as a dict with the state as the key,\n",
    "                        and the values being numpy arrays that store the\n",
    "                        action selection probabilities\n",
    "        n_episodes: number of episodes to sample\n",
    "        gamma: the discount factor\n",
    "        epsilon: chance to sample a random action\n",
    "        n_print_every : Print a message after this many episodes\n",
    "    \n",
    "    Returns:\n",
    "        a tuple (policy, Q)\n",
    "        opt_policy is a dict in the same format as the initial_policy\n",
    "        Q is a dict with the state as the key,\n",
    "        and an np.array as value, which contains the state-action values\n",
    "\"\"\"\n",
    "    \n",
    "    # see the note on datastructures in 'mc_policy_evaluation(...)'!\n",
    "    G_sum = defaultdict(lambda: np.zeros(env.action_space.n))\n",
    "    G_count = defaultdict(lambda: np.zeros(env.action_space.n))\n",
    "    \n",
    "    # The final action-value function.\n",
    "    # A nested dictionary that maps state -> (action -> action-value).\n",
    "    Q = defaultdict(lambda: np.zeros(env.action_space.n))\n",
    "    # make a copy of the inital policy (it's bad style to change input parameters)\n",
    "    policy = {k: v.copy() for k, v in initial_policy.items()}\n",
    "    for i_episode in range(1, n_episodes + 1):\n",
    "        if i_episode % n_print_every == 0:\n",
    "            print(\"\\rEpisode {}/{}.\".format(i_episode, n_episodes))\n",
    "\n",
    "        #generate an episode\n",
    "        episode = generate_episode(rng, env,policy)\n",
    "        \n",
    "        #compute return G, update G_sum, G_count, and Q\n",
    "        states,actions,rewards = zip(*episode)\n",
    "        discount_factors = np.array([gamma**i for i in range(len(states)+1)])\n",
    "        for ind,state in enumerate(states):\n",
    "            G_t = sum(rewards[ind:]*discount_factors[:-(1+ind)])\n",
    "\n",
    "            G_sum[state][actions[ind]] = G_sum[state][actions[ind]] + G_t\n",
    "            G_count[state][actions[ind]] = G_count[state][actions[ind]] + 1\n",
    "        \n",
    "            Q[state][actions[ind]] = G_sum[state][actions[ind]]/G_count[state][actions[ind]]\n",
    "\n",
    "\n",
    "        #derive an epsilon-soft policy from Q\n",
    "        list_of_actions = np.arange(env.action_space.n)\n",
    "        for state in states:\n",
    "            greedy_action =  np.argmax(Q[state])\n",
    "            non_greedy_action =  list_of_actions[list_of_actions != greedy_action]\n",
    "            if state not in policy.keys():\n",
    "                continue\n",
    "            policy[state][greedy_action] = 1 - epsilon + epsilon/env.action_space.n\n",
    "            policy[state][non_greedy_action] =  epsilon/env.action_space.n\n",
    "\n",
    "\n",
    "    return policy, Q"
   ]
  },
  {
   "cell_type": "markdown",
   "metadata": {
    "deletable": false,
    "editable": false,
    "nbgrader": {
     "cell_type": "markdown",
     "checksum": "354452f61809616d3e77727234fd709e",
     "grade": false,
     "grade_id": "cell-922f0c68611c54e7",
     "locked": true,
     "schema_version": 3,
     "solution": false,
     "task": false
    }
   },
   "source": [
    "### Run MC Control for Black Jack\n",
    "Finally, let's compute a better policy for the Black Jack game."
   ]
  },
  {
   "cell_type": "code",
   "execution_count": 12,
   "metadata": {
    "deletable": false,
    "editable": false,
    "nbgrader": {
     "cell_type": "code",
     "checksum": "cc87711cd9a8b11b371b8076bbaa0188",
     "grade": true,
     "grade_id": "cell-6950407009b1a7c0",
     "locked": true,
     "points": 6,
     "schema_version": 3,
     "solution": false,
     "task": false
    },
    "tags": []
   },
   "outputs": [
    {
     "name": "stdout",
     "output_type": "stream",
     "text": [
      "Episode 1000/10000.\n",
      "Episode 2000/10000.\n",
      "Episode 3000/10000.\n",
      "Episode 4000/10000.\n",
      "Episode 5000/10000.\n",
      "Episode 6000/10000.\n",
      "Episode 7000/10000.\n",
      "Episode 8000/10000.\n",
      "Episode 9000/10000.\n",
      "Episode 10000/10000.\n",
      "Episode 1000/10000.\n",
      "Episode 2000/10000.\n",
      "Episode 3000/10000.\n",
      "Episode 4000/10000.\n",
      "Episode 5000/10000.\n",
      "Episode 6000/10000.\n",
      "Episode 7000/10000.\n",
      "Episode 8000/10000.\n",
      "Episode 9000/10000.\n",
      "Episode 10000/10000.\n"
     ]
    }
   ],
   "source": [
    "# here, we start from the example policy\n",
    "# policy = create_example_policy()\n",
    "n_episodes = 10 ** 4\n",
    "n_print_every = 10 ** 3\n",
    "\n",
    "initial_policy = create_random_policy()\n",
    "\n",
    "# and now run our MC control algorithm\n",
    "opt_policy, opt_Q = mc_control_epsilon_greedy(\n",
    "    rng,\n",
    "    blackjack_env,\n",
    "    initial_policy,\n",
    "    n_episodes=n_episodes,\n",
    "    epsilon=0.1,\n",
    "    n_print_every=n_print_every\n",
    ")\n",
    "\n",
    "assert any([np.all(initial_policy[st] != val) for st, val in opt_policy.items()]), \"Your policy was not changed\"\n",
    "for state, val in opt_Q.items():\n",
    "    assert testing.is_type(state, tuple)\n",
    "    assert testing.is_type(state[0], [int, np.int64])\n",
    "    assert testing.is_type(state[1], [int, np.int64])\n",
    "    assert testing.is_type(state[2], bool)\n",
    "    assert testing.is_type(val, np.ndarray)\n",
    "\n",
    "# determine how good our policy is, in terms of v(s)\n",
    "opt_V = mc_policy_evaluation(\n",
    "    rng,\n",
    "    blackjack_env,\n",
    "    opt_policy,\n",
    "    n_episodes=n_episodes,\n",
    "    n_print_every=n_print_every\n",
    ")"
   ]
  },
  {
   "cell_type": "code",
   "execution_count": 13,
   "metadata": {
    "deletable": false,
    "editable": false,
    "nbgrader": {
     "cell_type": "code",
     "checksum": "43dba041cee4d079895d02abf654fd23",
     "grade": false,
     "grade_id": "cell-81fb4df9d4404e73",
     "locked": true,
     "schema_version": 3,
     "solution": false,
     "task": false
    }
   },
   "outputs": [
    {
     "data": {
      "image/png": "[encoded data removed]",
      "text/plain": [
       "<Figure size 576x576 with 2 Axes>"
      ]
     },
     "metadata": {
      "needs_background": "light"
     },
     "output_type": "display_data"
    },
    {
     "data": {
      "text/plain": [
       "<Figure size 432x288 with 0 Axes>"
      ]
     },
     "metadata": {},
     "output_type": "display_data"
    },
    {
     "data": {
      "image/png": "[encoded data removed]",
      "text/plain": [
       "<Figure size 576x576 with 4 Axes>"
      ]
     },
     "metadata": {
      "needs_background": "light"
     },
     "output_type": "display_data"
    }
   ],
   "source": [
    "# plot the policy\n",
    "blackjack.plot_policy(opt_policy)\n",
    "\n",
    "# and its associated value function\n",
    "blackjack.plot_value_function(opt_V)"
   ]
  },
  {
   "cell_type": "markdown",
   "metadata": {
    "deletable": false,
    "editable": false,
    "nbgrader": {
     "cell_type": "markdown",
     "checksum": "93f9de79cb5d4bbba401d3ad70c79599",
     "grade": false,
     "grade_id": "cell-f839e2eb1ca5d4f6",
     "locked": true,
     "schema_version": 3,
     "solution": false,
     "task": false
    }
   },
   "source": [
    "---\n",
    "# Fishlake Revisited with Monte Carlo methods\n",
    "We will now go back to the Fishlake and run the MC algorithms on this problem. You will need to answer a textual question, after you tried MC on the Fishlake environment."
   ]
  },
  {
   "cell_type": "code",
   "execution_count": 14,
   "metadata": {
    "deletable": false,
    "editable": false,
    "nbgrader": {
     "cell_type": "code",
     "checksum": "b0dfd3286573b70335f1e8382746f46f",
     "grade": false,
     "grade_id": "cell-fc9852fba32f4bd1",
     "locked": true,
     "schema_version": 3,
     "solution": false,
     "task": false
    }
   },
   "outputs": [],
   "source": [
    "def d2a_policy(env, policy):\n",
    "    policy_array = np.zeros((env.observation_space.n, env.action_space.n))\n",
    "    for state, ap in policy.items():\n",
    "        policy_array[state, :] = ap\n",
    "    return policy_array\n",
    "\n",
    "def d2a_V(env, V):\n",
    "    V_array = np.zeros(env.observation_space.n)\n",
    "    for state, value in V.items():\n",
    "        V_array[state] = value\n",
    "    return V_array\n",
    "\n",
    "def fishlake_random_policy(env):\n",
    "    policy = defaultdict()\n",
    "    for state in range(env.observation_space.n):\n",
    "        policy[state] = np.ones(env.action_space.n) / env.action_space.n\n",
    "    return policy    "
   ]
  },
  {
   "cell_type": "markdown",
   "metadata": {
    "deletable": false,
    "editable": false,
    "nbgrader": {
     "cell_type": "markdown",
     "checksum": "00150f1f18ac1f870e24cee963901e8a",
     "grade": false,
     "grade_id": "cell-421f3aeeeabf621f",
     "locked": true,
     "schema_version": 3,
     "solution": false,
     "task": false
    }
   },
   "source": [
    "## Run MC Evaluation on Fishlake"
   ]
  },
  {
   "cell_type": "code",
   "execution_count": 15,
   "metadata": {
    "deletable": false,
    "editable": false,
    "nbgrader": {
     "cell_type": "code",
     "checksum": "a9e6e74237d129478a3c1310cde997bb",
     "grade": false,
     "grade_id": "cell-87e2138f6fd5f8e7",
     "locked": true,
     "schema_version": 3,
     "solution": false,
     "task": false
    }
   },
   "outputs": [],
   "source": [
    "# we start with the smaller lake\n",
    "small_lake_env = gym.make('FishlakeStreamy-v0')\n",
    "small_lake_env.seed(1234)\n",
    "\n",
    "# let's create a random policy\n",
    "random_policy = fishlake_random_policy(small_lake_env)\n",
    "\n",
    "# and now let's see how good our policy is\n",
    "rng = np.random.default_rng(4321)\n",
    "V_dict = mc_policy_evaluation(rng, small_lake_env, random_policy, 200)"
   ]
  },
  {
   "cell_type": "code",
   "execution_count": 16,
   "metadata": {
    "deletable": false,
    "editable": false,
    "nbgrader": {
     "cell_type": "code",
     "checksum": "fbf8ebcecb43e103aa029b45b4232aa1",
     "grade": false,
     "grade_id": "cell-1acdcbfe44fc2f60",
     "locked": true,
     "schema_version": 3,
     "solution": false,
     "task": false
    }
   },
   "outputs": [
    {
     "data": {
      "image/png": "[encoded data removed]",
      "text/plain": [
       "<Figure size 432x288 with 2 Axes>"
      ]
     },
     "metadata": {
      "needs_background": "light"
     },
     "output_type": "display_data"
    }
   ],
   "source": [
    "# let's plot this\n",
    "random_policy_array = d2a_policy(small_lake_env, random_policy)\n",
    "V_array = d2a_V(small_lake_env, V_dict)\n",
    "\n",
    "fig, axes = plt.subplots(ncols=2)\n",
    "fishlake.plot_policy(axes[0], small_lake_env, random_policy_array)\n",
    "fishlake.plot_value_function(axes[1], small_lake_env, V_array)\n",
    "plt.show()"
   ]
  },
  {
   "cell_type": "markdown",
   "metadata": {
    "deletable": false,
    "editable": false,
    "nbgrader": {
     "cell_type": "markdown",
     "checksum": "06424735fb889ffad52c064624262394",
     "grade": false,
     "grade_id": "cell-37c35c1914b1f708",
     "locked": true,
     "schema_version": 3,
     "solution": false,
     "task": false
    }
   },
   "source": [
    "## Run MC Control on Fishlake"
   ]
  },
  {
   "cell_type": "code",
   "execution_count": 17,
   "metadata": {
    "deletable": false,
    "editable": false,
    "nbgrader": {
     "cell_type": "code",
     "checksum": "d36b5f030841105d3e429d409ffe1181",
     "grade": false,
     "grade_id": "cell-175caf8fd9382b9c",
     "locked": true,
     "schema_version": 3,
     "solution": false,
     "task": false
    }
   },
   "outputs": [
    {
     "name": "stdout",
     "output_type": "stream",
     "text": [
      "Episode 10000/10000.\n",
      "Episode 10000/10000.\n"
     ]
    }
   ],
   "source": [
    "# we start with the smaller lake\n",
    "small_lake_env = gym.make('FishlakeStreamy-v0')\n",
    "small_lake_env.seed(1234)\n",
    "\n",
    "# let's create a random policy\n",
    "initial_policy = fishlake_random_policy(small_lake_env)\n",
    "rng = np.random.default_rng(4321)\n",
    "opt_policy, opt_Q = mc_control_epsilon_greedy(\n",
    "    rng,\n",
    "    small_lake_env,\n",
    "    initial_policy,\n",
    "    n_episodes=10 ** 4,\n",
    "    epsilon=0.1\n",
    ")\n",
    "\n",
    "# and now let's see how good our policy is\n",
    "opt_V = mc_policy_evaluation(rng, small_lake_env, opt_policy, n_episodes=10 ** 4)"
   ]
  },
  {
   "cell_type": "code",
   "execution_count": 18,
   "metadata": {
    "deletable": false,
    "editable": false,
    "nbgrader": {
     "cell_type": "code",
     "checksum": "b0d9cd62e21d90193406f8ebaf6f323a",
     "grade": false,
     "grade_id": "cell-c206ceb407378f20",
     "locked": true,
     "schema_version": 3,
     "solution": false,
     "task": false
    }
   },
   "outputs": [
    {
     "data": {
      "image/png": "[encoded data removed]",
      "text/plain": [
       "<Figure size 432x288 with 2 Axes>"
      ]
     },
     "metadata": {
      "needs_background": "light"
     },
     "output_type": "display_data"
    }
   ],
   "source": [
    "# let's plot this\n",
    "opt_policy_array = d2a_policy(small_lake_env, opt_policy)\n",
    "opt_V_array = d2a_V(small_lake_env, opt_V)\n",
    "\n",
    "fig, axes = plt.subplots(ncols=2)\n",
    "fishlake.plot_policy(axes[0], small_lake_env, opt_policy_array)\n",
    "fishlake.plot_value_function(axes[1], small_lake_env, opt_V_array)\n",
    "plt.show()"
   ]
  }
 ],
 "metadata": {
  "kernelspec": {
   "display_name": "Python 3.9.12 ('base')",
   "language": "python",
   "name": "python3"
  },
  "language_info": {
   "codemirror_mode": {
    "name": "ipython",
    "version": 3
   },
   "file_extension": ".py",
   "mimetype": "text/x-python",
   "name": "python",
   "nbconvert_exporter": "python",
   "pygments_lexer": "ipython3",
   "version": "3.9.12"
  },
  "vscode": {
   "interpreter": {
    "hash": "40d3a090f54c6569ab1632332b64b2c03c39dcf918b08424e98f38b5ae0af88f"
   }
  }
 },
 "nbformat": 4,
 "nbformat_minor": 4
}
